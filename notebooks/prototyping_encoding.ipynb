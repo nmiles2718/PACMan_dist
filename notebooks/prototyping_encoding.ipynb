{
 "cells": [
  {
   "cell_type": "markdown",
   "metadata": {},
   "source": [
    "### Text Classification\n",
    "\n",
    "The goal of this notebook is to walk through the machine learning step of the text classification process.\n",
    "\n",
    "1) Encoding\n",
    "\n",
    "2) Partitioning the dataset into distinct subgroups\n",
    "\n",
    "3) Vectorization (Term Frequency Inverse Document Frequency (TF-IDF))\n"
   ]
  },
  {
   "cell_type": "code",
   "execution_count": 13,
   "metadata": {},
   "outputs": [],
   "source": [
    "%matplotlib widget\n",
    "import glob\n",
    "import sys\n",
    "sys.path.append('/Users/nmiles/PACMan_dist/')\n",
    "\n",
    "\n",
    "from astropy.visualization import ImageNormalize, LinearStretch, ZScaleInterval\n",
    "import matplotlib.pyplot as plt\n",
    "plt.style.use('ggplot')\n",
    "import numpy as np\n",
    "import pandas as pd\n",
    "import pacman2020 \n",
    "from sklearn.feature_selection import chi2\n",
    "from sklearn.feature_extraction.text import TfidfVectorizer, TfidfTransformer, CountVectorizer\n",
    "from sklearn.metrics import classification_report\n",
    "from sklearn.naive_bayes import MultinomialNB\n",
    "from sklearn.preprocessing import LabelEncoder\n",
    "from sklearn.pipeline import Pipeline\n",
    "from sklearn.pipeline import Pipeline\n",
    "from sklearn import model_selection, naive_bayes, svm\n",
    "from sklearn.metrics import accuracy_score\n",
    "from sklearn.metrics import confusion_matrix\n",
    "\n"
   ]
  },
  {
   "cell_type": "code",
   "execution_count": 14,
   "metadata": {},
   "outputs": [],
   "source": [
    "def read_category_label(fname):\n",
    "    flabel = fname.replace('_training.txt','_Scientific_Category.txt')\n",
    "    with open(flabel, 'r') as fobj:\n",
    "        lines = fobj.readlines()\n",
    "    print(lines)"
   ]
  },
  {
   "cell_type": "code",
   "execution_count": 15,
   "metadata": {},
   "outputs": [],
   "source": [
    "cy22 = '/Users/nmiles/PACMan_dist/proposal_data/Cy22_Proposals_txt/'\n",
    "cy23 = '/Users/nmiles/PACMan_dist/proposal_data/Cy23_Proposals_txt'\n",
    "cy24 = '/Users/nmiles/PACMan_dist/proposal_data/Cy24_Proposals_txt'\n",
    "cy25 = '/Users/nmiles/PACMan_dist/proposal_data/Cy25_Proposals_txt'"
   ]
  },
  {
   "cell_type": "code",
   "execution_count": 16,
   "metadata": {},
   "outputs": [],
   "source": [
    "fname = '/Users/nmiles/PACMan_dist/proposal_data/Cy25_proposals_txt/training_corpus/0001_training.txt'"
   ]
  },
  {
   "cell_type": "code",
   "execution_count": 17,
   "metadata": {},
   "outputs": [
    {
     "name": "stdout",
     "output_type": "stream",
     "text": [
      "[' Stellar Physics']\n"
     ]
    }
   ],
   "source": [
    "read_category_label(fname)"
   ]
  },
  {
   "cell_type": "code",
   "execution_count": 18,
   "metadata": {},
   "outputs": [
    {
     "data": {
      "application/vnd.jupyter.widget-view+json": {
       "model_id": "0511840e116348f98f51080d63a2c6fd",
       "version_major": 2,
       "version_minor": 0
      },
      "text/plain": [
       "Canvas(toolbar=Toolbar(toolitems=[('Home', 'Reset original view', 'home', 'home'), ('Back', 'Back to previous …"
      ]
     },
     "metadata": {},
     "output_type": "display_data"
    }
   ],
   "source": [
    "text, cleaned_text, tokens = pacman2020.tokenize(fname=fname, N=20, plot=True)"
   ]
  },
  {
   "cell_type": "code",
   "execution_count": 19,
   "metadata": {},
   "outputs": [
    {
     "name": "stdout",
     "output_type": "stream",
     "text": [
      "The Hubble Space Telescope (HST) has been instrumental in elucidating the nature of the intriguing superluminous supernovae (SLSNe) explosions by providing unparalleled observations of the progenitor stars, supernova imposters such as \"Luminous Blue Variables\" (LBVs) and their host galaxy properties. Furthermore, HST has directly imaged one of the earliest SLSN discovered, SN 2006gy, more than two years after the explosion. Now, more than a decade since the first modern discovery of SLSNe and with more than a hundred members of the class observed, the question on the explosion and energy input mechanism of these unprecedented events still div\n"
     ]
    }
   ],
   "source": [
    "print(text[:650])"
   ]
  },
  {
   "cell_type": "code",
   "execution_count": 20,
   "metadata": {},
   "outputs": [
    {
     "name": "stdout",
     "output_type": "stream",
     "text": [
      "hubble space telescope hst instrumental elucidate nature intriguing superluminous supernovae slsne explosion provide unparalleled observation progenitor star supernova imposter luminous blue variables lbvs host galaxy property furthermore hst directly image early slsn discover sn year explosion decade modern discovery slsne member class observe question explosion energy input mechanism unprecedented event divide supernova massive stellar evolution theorist bring team transient supernova observer\n"
     ]
    }
   ],
   "source": [
    "print(cleaned_text[:500])"
   ]
  },
  {
   "cell_type": "code",
   "execution_count": 24,
   "metadata": {},
   "outputs": [],
   "source": [
    "flist_text = glob.glob(f\"{cy25}/training_corpus/*training.txt\")\n",
    "flist_label = glob.glob(f\"{cy25}/training_corpus/*_Scientific_Category.txt\")"
   ]
  },
  {
   "cell_type": "code",
   "execution_count": 16,
   "metadata": {},
   "outputs": [
    {
     "data": {
      "text/plain": [
       "1208"
      ]
     },
     "execution_count": 16,
     "metadata": {},
     "output_type": "execute_result"
    }
   ],
   "source": [
    "flist_text.__len__()"
   ]
  },
  {
   "cell_type": "code",
   "execution_count": 17,
   "metadata": {},
   "outputs": [],
   "source": [
    "assert len(flist_text) == len(flist_label)"
   ]
  },
  {
   "cell_type": "code",
   "execution_count": 139,
   "metadata": {},
   "outputs": [
    {
     "name": "stderr",
     "output_type": "stream",
     "text": [
      "INFO [pacman2020.read_in_dataset:204] Reading in dataset...\n"
     ]
    },
    {
     "data": {
      "application/vnd.jupyter.widget-view+json": {
       "model_id": "2c4a44e1197c4788ad2ae46766e35e13",
       "version_major": 2,
       "version_minor": 0
      },
      "text/plain": [
       "HBox(children=(IntProgress(value=1, bar_style='info', max=1), HTML(value='')))"
      ]
     },
     "metadata": {},
     "output_type": "display_data"
    },
    {
     "name": "stdout",
     "output_type": "stream",
     "text": [
      "\n"
     ]
    }
   ],
   "source": [
    "train_df, data = pacman2020.read_in_dataset(flist_text=flist_text, flist_label=flist_label, notebook=True)"
   ]
  },
  {
   "cell_type": "code",
   "execution_count": 142,
   "metadata": {},
   "outputs": [
    {
     "data": {
      "application/vnd.jupyter.widget-view+json": {
       "model_id": "15a5697ebd0444248a34bce26a4ffa78",
       "version_major": 2,
       "version_minor": 0
      },
      "text/plain": [
       "Canvas(toolbar=Toolbar(toolitems=[('Home', 'Reset original view', 'home', 'home'), ('Back', 'Back to previous …"
      ]
     },
     "metadata": {},
     "output_type": "display_data"
    },
    {
     "data": {
      "text/plain": [
       "<matplotlib.axes._subplots.AxesSubplot at 0x11ee17e48>"
      ]
     },
     "execution_count": 142,
     "metadata": {},
     "output_type": "execute_result"
    }
   ],
   "source": [
    "categories = train_df['category'].value_counts()\n",
    "fig, ax = plt.subplots(nrows=1, ncols=1)\n",
    "categories.plot.barh(ax=ax)"
   ]
  },
  {
   "cell_type": "code",
   "execution_count": 143,
   "metadata": {},
   "outputs": [],
   "source": [
    "def create_balanced_subset(df, categories=[]):\n",
    "    subsets = {}\n",
    "    for category in categories:\n",
    "        data = df[df['category'] == category].loc[:100,:]\n",
    "        subsets[category] = data\n",
    "    return subsets"
   ]
  },
  {
   "cell_type": "code",
   "execution_count": 144,
   "metadata": {},
   "outputs": [
    {
     "name": "stdout",
     "output_type": "stream",
     "text": [
      "<class 'pandas.core.frame.DataFrame'>\n",
      "RangeIndex: 1208 entries, 0 to 1207\n",
      "Data columns (total 2 columns):\n",
      "text        1208 non-null object\n",
      "category    1208 non-null object\n",
      "dtypes: object(2)\n",
      "memory usage: 19.0+ KB\n"
     ]
    }
   ],
   "source": [
    "train_df.info()"
   ]
  },
  {
   "cell_type": "code",
   "execution_count": 146,
   "metadata": {},
   "outputs": [],
   "source": [
    "subsets = create_balanced_subset(train_df, categories=np.unique(train_df['category']))"
   ]
  },
  {
   "cell_type": "code",
   "execution_count": 147,
   "metadata": {},
   "outputs": [
    {
     "data": {
      "text/plain": [
       "{'Cosmology':                                                  text   category\n",
       " 8   It has been well-established that local enviro...  Cosmology\n",
       " 13  Far beyond the visible star formation in galax...  Cosmology\n",
       " 15  We propose to investigate how the majority of ...  Cosmology\n",
       " 21  LMC X-1 is one of the brightest extragalactic ...  Cosmology\n",
       " 22  Recent surveys have revealed an extraordinary ...  Cosmology\n",
       " 28  Protostellar outflows provide potent feedback ...  Cosmology\n",
       " 76  The well-known connections between super-massi...  Cosmology\n",
       " 84  When a star passes within the sphere of disrup...  Cosmology\n",
       " 85  Carbonaceous dust grains and large organic mol...  Cosmology,\n",
       " 'Galaxies and the IGM':                                                  text              category\n",
       " 1   Our team is using Spitzer in a long-term searc...  Galaxies and the IGM\n",
       " 12  Recent attempts to constrain quasar broad abso...  Galaxies and the IGM\n",
       " 14  A key question in galaxy evolution is how gala...  Galaxies and the IGM\n",
       " 16  We propose WFC3 ultraviolet imaging of the ste...  Galaxies and the IGM\n",
       " 23  Quenching of star formation within a galaxy re...  Galaxies and the IGM\n",
       " 27  Nowhere in the Universe is the transformation ...  Galaxies and the IGM\n",
       " 29  Two phases of the interstellar medium, the War...  Galaxies and the IGM\n",
       " 31  Studies of resolved stellar populations in a w...  Galaxies and the IGM\n",
       " 34  Source Extractor has been the mainstay for qui...  Galaxies and the IGM\n",
       " 38  The biggest question facing massive star evolu...  Galaxies and the IGM\n",
       " 47  Blue Compact Dwarf (BCD) galaxies form stars a...  Galaxies and the IGM\n",
       " 51  Cataclysmic variables (CVs), binaries consisti...  Galaxies and the IGM\n",
       " 52  Giant Lya nebulae (or Lya ''blobs\") seen at hi...  Galaxies and the IGM\n",
       " 56  Measuring galaxy metallicity with cosmic time ...  Galaxies and the IGM\n",
       " 59  JWST will be able to observe the atmospheres o...  Galaxies and the IGM\n",
       " 60  The importance of major merging at z>1 remains...  Galaxies and the IGM\n",
       " 62  With DECam we are seeing transients with AB ma...  Galaxies and the IGM\n",
       " 64  Hot Jupiters have been a frequent target for H...  Galaxies and the IGM\n",
       " 65  The large frequency range and angular sky cove...  Galaxies and the IGM\n",
       " 72  The extent to which significant stratospheres ...  Galaxies and the IGM\n",
       " 73  We propose a series of three R~20,000 spectros...  Galaxies and the IGM\n",
       " 74  The plot of core radius (rc) versus the chrono...  Galaxies and the IGM\n",
       " 78  Observing the UV emission from star formation ...  Galaxies and the IGM\n",
       " 79  Following the New Horizons flyby in 2015, we p...  Galaxies and the IGM\n",
       " 81  Metal-rich white dwarfs have been targeted by ...  Galaxies and the IGM\n",
       " 82  Binary systems containing two neutron stars (D...  Galaxies and the IGM\n",
       " 88  Extremely metal-poor (XMP) galaxies are dwarf ...  Galaxies and the IGM\n",
       " 90  Densities provide unique information about bul...  Galaxies and the IGM\n",
       " 97  KIC 8462852, otherwise known as Boyajian's sta...  Galaxies and the IGM\n",
       " 98  We propose to use 6 orbits of HST time to obta...  Galaxies and the IGM,\n",
       " 'Massive Black Holes And Their Host Galaxies':                                                  text  \\\n",
       " 30  Massive stars are the \"cosmic engines\" of the ...   \n",
       " 39  Despite advances in characterising the propert...   \n",
       " 42  The primary goal of NASA's Kepler mission is t...   \n",
       " 44  HST Heritiage images of radiative shocks in th...   \n",
       " 46  We propose to conduct a WFC3 SNAP survey of 3C...   \n",
       " 48  Powerful galaxy-wide winds launched by quasars...   \n",
       " 50  The advent of GALEX and COS have revolutionize...   \n",
       " 83  High-resolution HST spectroscopy of the QSO PG...   \n",
       " \n",
       "                                        category  \n",
       " 30  Massive Black Holes And Their Host Galaxies  \n",
       " 39  Massive Black Holes And Their Host Galaxies  \n",
       " 42  Massive Black Holes And Their Host Galaxies  \n",
       " 44  Massive Black Holes And Their Host Galaxies  \n",
       " 46  Massive Black Holes And Their Host Galaxies  \n",
       " 48  Massive Black Holes And Their Host Galaxies  \n",
       " 50  Massive Black Holes And Their Host Galaxies  \n",
       " 83  Massive Black Holes And Their Host Galaxies  ,\n",
       " 'Planets and Planet Formation':                                                  text  \\\n",
       " 4   We propose Hubble imaging of a newly-discovere...   \n",
       " 5   One of the early iconic HST results was an ima...   \n",
       " 17  We have discovered a high Lyman Continuum (LyC...   \n",
       " 35  AE Aur (HD 34078) and HD 47240 are the most re...   \n",
       " 40  Because of its proximity, the 650-Myr-old Hyad...   \n",
       " 49  Recent theories of solar system evolution desc...   \n",
       " 53  SDSS 0956+5128 is an object unlike any other q...   \n",
       " 54  Massive stars are usually found in binary syst...   \n",
       " 66  How do galaxies grow? What regulates star form...   \n",
       " 67  To better understand how Earth-like planets fo...   \n",
       " 68  Cepheus A contains the closest massive young s...   \n",
       " 70  WFC3 Infrared Spectroscopic Parallels (WISP) e...   \n",
       " 71  We propose a high resolution imaging (~100 pc)...   \n",
       " 77  We found enigmatic, few-au-scale features in s...   \n",
       " 93  Mass transfer in binary stars yields SNe Ia ev...   \n",
       " 94  A small sample of Type IIb SNe have been recen...   \n",
       " 96  The prevailing wisdom is that low-luminosity g...   \n",
       " 99  We propose to use four HST/ACS orbits to obtai...   \n",
       " \n",
       "                         category  \n",
       " 4   Planets and Planet Formation  \n",
       " 5   Planets and Planet Formation  \n",
       " 17  Planets and Planet Formation  \n",
       " 35  Planets and Planet Formation  \n",
       " 40  Planets and Planet Formation  \n",
       " 49  Planets and Planet Formation  \n",
       " 53  Planets and Planet Formation  \n",
       " 54  Planets and Planet Formation  \n",
       " 66  Planets and Planet Formation  \n",
       " 67  Planets and Planet Formation  \n",
       " 68  Planets and Planet Formation  \n",
       " 70  Planets and Planet Formation  \n",
       " 71  Planets and Planet Formation  \n",
       " 77  Planets and Planet Formation  \n",
       " 93  Planets and Planet Formation  \n",
       " 94  Planets and Planet Formation  \n",
       " 96  Planets and Planet Formation  \n",
       " 99  Planets and Planet Formation  ,\n",
       " 'Solar System':                                                  text      category\n",
       " 20  Evolutionary models and recently reported infr...  Solar System\n",
       " 33  Massive stars and young stellar populations ar...  Solar System\n",
       " 87  We propose to obtain multiband photometry of t...  Solar System\n",
       " 89  We propose to obtain ACS and UVIS imaging in F...  Solar System,\n",
       " 'Stellar Physics':                                                  text         category\n",
       " 0   We propose to obtain far-ultraviolet COS spect...  Stellar Physics\n",
       " 2   The evolution of stars with masses above 20-25...  Stellar Physics\n",
       " 7   PSR J1741-2054 is a bright gamma-ray pulsar di...  Stellar Physics\n",
       " 9   Dusty, star-forming galaxies (DSFGs), contribu...  Stellar Physics\n",
       " 11  We request 17 orbits to conduct a pilot study ...  Stellar Physics\n",
       " 24  UGC 2885 was discoverd to be the most extended...  Stellar Physics\n",
       " 25  NGC 2685, the so-called Helix Galaxy from the ...  Stellar Physics\n",
       " 26  We propose to obtain ACS images for an excepti...  Stellar Physics\n",
       " 32  We propose to use COS ultraviolet observations...  Stellar Physics\n",
       " 36  An open question in the field of jetted AGN is...  Stellar Physics\n",
       " 37  We propose WFC3 narrow-band imaging of the red...  Stellar Physics\n",
       " 41  Our recent discovery of the first hydrogen ric...  Stellar Physics\n",
       " 45  White dwarf stars are now known to regularly a...  Stellar Physics\n",
       " 57  Once considered the proto-type of a Single (co...  Stellar Physics\n",
       " 58  Observations have shown a high incidence of hi...  Stellar Physics\n",
       " 61  A significant fraction of the mass of an old s...  Stellar Physics\n",
       " 63  We propose to obtain deep ACS and WFC3 imaging...  Stellar Physics\n",
       " 69  There exists an intriguing relation between AG...  Stellar Physics\n",
       " 75  Luminous Red Novae are a recently recognized c...  Stellar Physics\n",
       " 80  Spectroscopic observations of planetary transi...  Stellar Physics\n",
       " 91  We propose STIS coronagraphy of 9 debris disks...  Stellar Physics\n",
       " 92  Up to date there is only 1 known double white ...  Stellar Physics\n",
       " 95  We propose to measure the scattered Lyman alph...  Stellar Physics,\n",
       " 'Stellar Populations':                                                   text             category\n",
       " 3    We propose a IR spectroscopic survey of galaxi...  Stellar Populations\n",
       " 6    The globular cluster omega Cen is unique in po...  Stellar Populations\n",
       " 10   Even though SNe Ia are crucial to cosmological...  Stellar Populations\n",
       " 18   The discovery of countless close-in planets wi...  Stellar Populations\n",
       " 19   The New Horizons spacecraft will encounter KBO...  Stellar Populations\n",
       " 43   Planet-crossing asteroid (3200) Phaethon, sour...  Stellar Populations\n",
       " 55   The circumgalactic medium (CGM) is a dynamical...  Stellar Populations\n",
       " 86   We have identified the core of a proto-cluster...  Stellar Populations\n",
       " 100  We propose a snapshot survey of ~50 high and i...  Stellar Populations}"
      ]
     },
     "execution_count": 147,
     "metadata": {},
     "output_type": "execute_result"
    }
   ],
   "source": [
    "subsets"
   ]
  },
  {
   "cell_type": "code",
   "execution_count": 148,
   "metadata": {},
   "outputs": [],
   "source": [
    "train_df['category_id'] = train_df['category'].factorize()[0]"
   ]
  },
  {
   "cell_type": "code",
   "execution_count": 149,
   "metadata": {},
   "outputs": [
    {
     "data": {
      "text/html": [
       "<div>\n",
       "<style scoped>\n",
       "    .dataframe tbody tr th:only-of-type {\n",
       "        vertical-align: middle;\n",
       "    }\n",
       "\n",
       "    .dataframe tbody tr th {\n",
       "        vertical-align: top;\n",
       "    }\n",
       "\n",
       "    .dataframe thead th {\n",
       "        text-align: right;\n",
       "    }\n",
       "</style>\n",
       "<table border=\"1\" class=\"dataframe\">\n",
       "  <thead>\n",
       "    <tr style=\"text-align: right;\">\n",
       "      <th></th>\n",
       "      <th>text</th>\n",
       "      <th>category</th>\n",
       "      <th>category_id</th>\n",
       "    </tr>\n",
       "  </thead>\n",
       "  <tbody>\n",
       "    <tr>\n",
       "      <td>1203</td>\n",
       "      <td>A very luminous (&gt;100mJy) Herschel selected su...</td>\n",
       "      <td>Galaxies and the IGM</td>\n",
       "      <td>1</td>\n",
       "    </tr>\n",
       "    <tr>\n",
       "      <td>1204</td>\n",
       "      <td>The unique UV capabilities of the HST provide ...</td>\n",
       "      <td>Stellar Physics</td>\n",
       "      <td>0</td>\n",
       "    </tr>\n",
       "    <tr>\n",
       "      <td>1205</td>\n",
       "      <td>The FS CMa stars are a paradoxical group of re...</td>\n",
       "      <td>Galaxies and the IGM</td>\n",
       "      <td>1</td>\n",
       "    </tr>\n",
       "    <tr>\n",
       "      <td>1206</td>\n",
       "      <td>Recent studies have provided evidence that dwa...</td>\n",
       "      <td>Massive Black Holes And Their Host Galaxies</td>\n",
       "      <td>6</td>\n",
       "    </tr>\n",
       "    <tr>\n",
       "      <td>1207</td>\n",
       "      <td>Ultraluminous X-ray sources (ULXs) were once a...</td>\n",
       "      <td>Stellar Physics</td>\n",
       "      <td>0</td>\n",
       "    </tr>\n",
       "  </tbody>\n",
       "</table>\n",
       "</div>"
      ],
      "text/plain": [
       "                                                   text  \\\n",
       "1203  A very luminous (>100mJy) Herschel selected su...   \n",
       "1204  The unique UV capabilities of the HST provide ...   \n",
       "1205  The FS CMa stars are a paradoxical group of re...   \n",
       "1206  Recent studies have provided evidence that dwa...   \n",
       "1207  Ultraluminous X-ray sources (ULXs) were once a...   \n",
       "\n",
       "                                         category  category_id  \n",
       "1203                         Galaxies and the IGM            1  \n",
       "1204                              Stellar Physics            0  \n",
       "1205                         Galaxies and the IGM            1  \n",
       "1206  Massive Black Holes And Their Host Galaxies            6  \n",
       "1207                              Stellar Physics            0  "
      ]
     },
     "execution_count": 149,
     "metadata": {},
     "output_type": "execute_result"
    }
   ],
   "source": [
    "train_df.tail()"
   ]
  },
  {
   "cell_type": "code",
   "execution_count": 150,
   "metadata": {},
   "outputs": [],
   "source": [
    "category_id_df_train = train_df[['category','category_id']]\n",
    "category_to_id_train = dict(category_id_df_train.values)\n",
    "id_to_category_train = dict(category_id_df_train[['category_id', 'category']].values)\n"
   ]
  },
  {
   "cell_type": "code",
   "execution_count": 151,
   "metadata": {},
   "outputs": [
    {
     "data": {
      "text/plain": [
       "{0: 'Stellar Physics',\n",
       " 1: 'Galaxies and the IGM',\n",
       " 2: 'Stellar Populations',\n",
       " 3: 'Planets and Planet Formation',\n",
       " 4: 'Cosmology',\n",
       " 5: 'Solar System',\n",
       " 6: 'Massive Black Holes And Their Host Galaxies'}"
      ]
     },
     "execution_count": 151,
     "metadata": {},
     "output_type": "execute_result"
    }
   ],
   "source": [
    "id_to_category_train"
   ]
  },
  {
   "cell_type": "code",
   "execution_count": 152,
   "metadata": {},
   "outputs": [],
   "source": [
    "tfidf_vect = TfidfVectorizer(max_features=10000,\n",
    "    tokenizer=pacman2020.spacy_tokenizer,\n",
    "    norm='l2',\n",
    "    ngram_range=(1, 2))"
   ]
  },
  {
   "cell_type": "code",
   "execution_count": 153,
   "metadata": {},
   "outputs": [],
   "source": [
    "count_vect = CountVectorizer(max_features=10000, tokenizer=pacman2020.spacy_tokenizer)"
   ]
  },
  {
   "cell_type": "code",
   "execution_count": 154,
   "metadata": {},
   "outputs": [],
   "source": [
    "x_train, x_test, y_train, y_test = model_selection.train_test_split(train_df['text'], train_df['category_id'], test_size=0.2, train_size=0.8)"
   ]
  },
  {
   "cell_type": "code",
   "execution_count": 155,
   "metadata": {},
   "outputs": [],
   "source": [
    "count_vect = count_vect.fit(x_train)"
   ]
  },
  {
   "cell_type": "code",
   "execution_count": null,
   "metadata": {},
   "outputs": [],
   "source": [
    "Encoder = LabelEncoder()\n",
    "y_train = Encoder.fit_transform(y_train)\n",
    "y_test = Encoder.fit_transform(y_test)"
   ]
  },
  {
   "cell_type": "code",
   "execution_count": null,
   "metadata": {},
   "outputs": [],
   "source": [
    "nb_tfidf = Pipeline([('vect', tfidf_vect),\n",
    "               ('clf', MultinomialNB(alpha=0.05)),\n",
    "              ])\n"
   ]
  },
  {
   "cell_type": "code",
   "execution_count": null,
   "metadata": {},
   "outputs": [],
   "source": [
    "nb_count = Pipeline([('vect', count_vect),\n",
    "               ('clf', MultinomialNB()),\n",
    "              ])"
   ]
  },
  {
   "cell_type": "code",
   "execution_count": null,
   "metadata": {},
   "outputs": [],
   "source": [
    "nb_tfidf.fit(train_df['text'], train_df['category_id'])"
   ]
  },
  {
   "cell_type": "code",
   "execution_count": null,
   "metadata": {},
   "outputs": [],
   "source": [
    "nb_count.fit(train_df['text'], train_df['category_id'])"
   ]
  },
  {
   "cell_type": "code",
   "execution_count": null,
   "metadata": {},
   "outputs": [],
   "source": [
    "flist_text_test = glob.glob(f\"{cy25}/training_corpus/*training.txt\")\n",
    "flist_label_test = glob.glob(f\"{cy25}/training_corpus/*_Scientific_Category.txt\")\n",
    "test_df = pacman2020.read_in_dataset(flist_text=flist_text_test, flist_label=flist_label_test, notebook=True)"
   ]
  },
  {
   "cell_type": "code",
   "execution_count": null,
   "metadata": {},
   "outputs": [],
   "source": [
    "test_df, data = test_df"
   ]
  },
  {
   "cell_type": "code",
   "execution_count": null,
   "metadata": {},
   "outputs": [],
   "source": [
    "test_df['category_id'] = test_df['category'].factorize()[0]\n",
    "category_id_df_test = test_df[['category','category_id']]\n",
    "category_to_id_test = dict(category_id_df_test.values)\n",
    "id_to_category_test = dict(category_id_df_test[['category_id', 'category']].values)"
   ]
  },
  {
   "cell_type": "code",
   "execution_count": null,
   "metadata": {},
   "outputs": [],
   "source": [
    "id_to_category_test"
   ]
  },
  {
   "cell_type": "code",
   "execution_count": null,
   "metadata": {},
   "outputs": [],
   "source": [
    "predictions = nb_tfidf.predict(test_df['text'])"
   ]
  },
  {
   "cell_type": "code",
   "execution_count": null,
   "metadata": {},
   "outputs": [],
   "source": [
    "accuracy_score(test_df['category_id'], predictions)"
   ]
  },
  {
   "cell_type": "code",
   "execution_count": null,
   "metadata": {},
   "outputs": [],
   "source": [
    "predictions_count = nb_count.predict(test_df['text'])"
   ]
  },
  {
   "cell_type": "code",
   "execution_count": null,
   "metadata": {},
   "outputs": [],
   "source": [
    "accuracy_score(test_df['category_id'], predictions_count)"
   ]
  },
  {
   "cell_type": "code",
   "execution_count": null,
   "metadata": {},
   "outputs": [],
   "source": [
    "confusion_mat = confusion_matrix(test_df['category_id'], predictions)"
   ]
  },
  {
   "cell_type": "code",
   "execution_count": null,
   "metadata": {},
   "outputs": [],
   "source": [
    "confusion_mat_count = confusion_matrix(test_df['category_id'], predictions_count)"
   ]
  },
  {
   "cell_type": "code",
   "execution_count": null,
   "metadata": {},
   "outputs": [],
   "source": [
    "print(confusion_mat_count)"
   ]
  },
  {
   "cell_type": "code",
   "execution_count": null,
   "metadata": {},
   "outputs": [],
   "source": []
  },
  {
   "cell_type": "code",
   "execution_count": null,
   "metadata": {},
   "outputs": [],
   "source": [
    "print(classification_report(test_df['category_id'], predictions_count , target_names=list(id_to_category_test.values())))"
   ]
  },
  {
   "cell_type": "code",
   "execution_count": null,
   "metadata": {},
   "outputs": [],
   "source": [
    "print(classification_report(test_df['category_id'], predictions , target_names=list(id_to_category_test.values())))"
   ]
  },
  {
   "cell_type": "markdown",
   "metadata": {},
   "source": [
    "### Cycle 25 testing using the UAT categories"
   ]
  },
  {
   "cell_type": "code",
   "execution_count": 85,
   "metadata": {},
   "outputs": [],
   "source": [
    "proposal_classifications = pd.read_csv('/Users/nmiles/PACMan_dist/cycle_25_classifications.txt')"
   ]
  },
  {
   "cell_type": "markdown",
   "metadata": {},
   "source": [
    "Parse the filenames to get the proposal number"
   ]
  },
  {
   "cell_type": "code",
   "execution_count": 88,
   "metadata": {},
   "outputs": [],
   "source": [
    "proposal_numbers = [int(val.split('/')[-1].split('_')[0]) for val in flist_text]"
   ]
  },
  {
   "cell_type": "code",
   "execution_count": 89,
   "metadata": {},
   "outputs": [],
   "source": [
    "flist_num = list(zip(flist_text, proposal_numbers))"
   ]
  },
  {
   "cell_type": "code",
   "execution_count": 90,
   "metadata": {},
   "outputs": [],
   "source": [
    "flist_num.sort(key=lambda val: val[1])"
   ]
  },
  {
   "cell_type": "code",
   "execution_count": 91,
   "metadata": {},
   "outputs": [],
   "source": [
    "flist_sorted, proposal_num = list(zip(*flist_num))"
   ]
  },
  {
   "cell_type": "code",
   "execution_count": 92,
   "metadata": {},
   "outputs": [
    {
     "data": {
      "text/plain": [
       "1208"
      ]
     },
     "execution_count": 92,
     "metadata": {},
     "output_type": "execute_result"
    }
   ],
   "source": [
    "len(proposal_num)"
   ]
  },
  {
   "cell_type": "code",
   "execution_count": 95,
   "metadata": {},
   "outputs": [],
   "source": [
    "hand_classified_null = proposal_classifications[proposal_classifications['classification'].isnull()]"
   ]
  },
  {
   "cell_type": "code",
   "execution_count": 96,
   "metadata": {},
   "outputs": [
    {
     "name": "stdout",
     "output_type": "stream",
     "text": [
      "<class 'pandas.core.frame.DataFrame'>\n",
      "RangeIndex: 1222 entries, 0 to 1221\n",
      "Data columns (total 2 columns):\n",
      "proposal_num      1222 non-null int64\n",
      "classification    1208 non-null object\n",
      "dtypes: int64(1), object(1)\n",
      "memory usage: 19.2+ KB\n"
     ]
    }
   ],
   "source": [
    "proposal_classifications.info()"
   ]
  },
  {
   "cell_type": "code",
   "execution_count": 140,
   "metadata": {},
   "outputs": [],
   "source": [
    "a = np.ediff1d(proposal_num)\n",
    "idx = list(map(int, np.where(a>1)[0]))\n",
    "missing_proposals = [proposal_num[val]+1 for val in idx]"
   ]
  },
  {
   "cell_type": "code",
   "execution_count": 141,
   "metadata": {},
   "outputs": [
    {
     "data": {
      "text/plain": [
       "[18, 24, 28, 61, 86, 88, 131, 220, 430, 664, 667, 1039, 1089, 1124]"
      ]
     },
     "execution_count": 141,
     "metadata": {},
     "output_type": "execute_result"
    }
   ],
   "source": [
    "missing_proposals"
   ]
  },
  {
   "cell_type": "code",
   "execution_count": 116,
   "metadata": {},
   "outputs": [
    {
     "data": {
      "text/html": [
       "<div>\n",
       "<style scoped>\n",
       "    .dataframe tbody tr th:only-of-type {\n",
       "        vertical-align: middle;\n",
       "    }\n",
       "\n",
       "    .dataframe tbody tr th {\n",
       "        vertical-align: top;\n",
       "    }\n",
       "\n",
       "    .dataframe thead th {\n",
       "        text-align: right;\n",
       "    }\n",
       "</style>\n",
       "<table border=\"1\" class=\"dataframe\">\n",
       "  <thead>\n",
       "    <tr style=\"text-align: right;\">\n",
       "      <th></th>\n",
       "      <th>proposal_num</th>\n",
       "      <th>classification</th>\n",
       "    </tr>\n",
       "  </thead>\n",
       "  <tbody>\n",
       "    <tr>\n",
       "      <td>17</td>\n",
       "      <td>18</td>\n",
       "      <td>NaN</td>\n",
       "    </tr>\n",
       "    <tr>\n",
       "      <td>23</td>\n",
       "      <td>24</td>\n",
       "      <td>NaN</td>\n",
       "    </tr>\n",
       "    <tr>\n",
       "      <td>27</td>\n",
       "      <td>28</td>\n",
       "      <td>NaN</td>\n",
       "    </tr>\n",
       "    <tr>\n",
       "      <td>60</td>\n",
       "      <td>61</td>\n",
       "      <td>NaN</td>\n",
       "    </tr>\n",
       "    <tr>\n",
       "      <td>85</td>\n",
       "      <td>86</td>\n",
       "      <td>NaN</td>\n",
       "    </tr>\n",
       "    <tr>\n",
       "      <td>87</td>\n",
       "      <td>88</td>\n",
       "      <td>NaN</td>\n",
       "    </tr>\n",
       "    <tr>\n",
       "      <td>130</td>\n",
       "      <td>131</td>\n",
       "      <td>NaN</td>\n",
       "    </tr>\n",
       "    <tr>\n",
       "      <td>219</td>\n",
       "      <td>220</td>\n",
       "      <td>NaN</td>\n",
       "    </tr>\n",
       "    <tr>\n",
       "      <td>429</td>\n",
       "      <td>430</td>\n",
       "      <td>NaN</td>\n",
       "    </tr>\n",
       "    <tr>\n",
       "      <td>663</td>\n",
       "      <td>664</td>\n",
       "      <td>NaN</td>\n",
       "    </tr>\n",
       "    <tr>\n",
       "      <td>666</td>\n",
       "      <td>667</td>\n",
       "      <td>NaN</td>\n",
       "    </tr>\n",
       "    <tr>\n",
       "      <td>1038</td>\n",
       "      <td>1039</td>\n",
       "      <td>NaN</td>\n",
       "    </tr>\n",
       "    <tr>\n",
       "      <td>1088</td>\n",
       "      <td>1089</td>\n",
       "      <td>NaN</td>\n",
       "    </tr>\n",
       "    <tr>\n",
       "      <td>1123</td>\n",
       "      <td>1124</td>\n",
       "      <td>NaN</td>\n",
       "    </tr>\n",
       "  </tbody>\n",
       "</table>\n",
       "</div>"
      ],
      "text/plain": [
       "      proposal_num classification\n",
       "17              18            NaN\n",
       "23              24            NaN\n",
       "27              28            NaN\n",
       "60              61            NaN\n",
       "85              86            NaN\n",
       "87              88            NaN\n",
       "130            131            NaN\n",
       "219            220            NaN\n",
       "429            430            NaN\n",
       "663            664            NaN\n",
       "666            667            NaN\n",
       "1038          1039            NaN\n",
       "1088          1089            NaN\n",
       "1123          1124            NaN"
      ]
     },
     "execution_count": 116,
     "metadata": {},
     "output_type": "execute_result"
    }
   ],
   "source": [
    "hand_classified_null"
   ]
  },
  {
   "cell_type": "code",
   "execution_count": 132,
   "metadata": {},
   "outputs": [],
   "source": [
    "proposal_classifications['fname'] = [np.nan]*len(proposal_classifications)"
   ]
  },
  {
   "cell_type": "code",
   "execution_count": 134,
   "metadata": {},
   "outputs": [
    {
     "data": {
      "text/html": [
       "<div>\n",
       "<style scoped>\n",
       "    .dataframe tbody tr th:only-of-type {\n",
       "        vertical-align: middle;\n",
       "    }\n",
       "\n",
       "    .dataframe tbody tr th {\n",
       "        vertical-align: top;\n",
       "    }\n",
       "\n",
       "    .dataframe thead th {\n",
       "        text-align: right;\n",
       "    }\n",
       "</style>\n",
       "<table border=\"1\" class=\"dataframe\">\n",
       "  <thead>\n",
       "    <tr style=\"text-align: right;\">\n",
       "      <th></th>\n",
       "      <th>proposal_num</th>\n",
       "      <th>classification</th>\n",
       "      <th>fname</th>\n",
       "    </tr>\n",
       "  </thead>\n",
       "  <tbody>\n",
       "    <tr>\n",
       "      <td>0</td>\n",
       "      <td>1</td>\n",
       "      <td>stellar physics</td>\n",
       "      <td>NaN</td>\n",
       "    </tr>\n",
       "    <tr>\n",
       "      <td>1</td>\n",
       "      <td>2</td>\n",
       "      <td>galaxies and the igm</td>\n",
       "      <td>NaN</td>\n",
       "    </tr>\n",
       "    <tr>\n",
       "      <td>2</td>\n",
       "      <td>3</td>\n",
       "      <td>stellar populations and the ism</td>\n",
       "      <td>NaN</td>\n",
       "    </tr>\n",
       "    <tr>\n",
       "      <td>3</td>\n",
       "      <td>4</td>\n",
       "      <td>stellar physics</td>\n",
       "      <td>NaN</td>\n",
       "    </tr>\n",
       "    <tr>\n",
       "      <td>4</td>\n",
       "      <td>5</td>\n",
       "      <td>stellar populations and the ism</td>\n",
       "      <td>NaN</td>\n",
       "    </tr>\n",
       "  </tbody>\n",
       "</table>\n",
       "</div>"
      ],
      "text/plain": [
       "   proposal_num                   classification  fname\n",
       "0             1                  stellar physics    NaN\n",
       "1             2             galaxies and the igm    NaN\n",
       "2             3  stellar populations and the ism    NaN\n",
       "3             4                  stellar physics    NaN\n",
       "4             5  stellar populations and the ism    NaN"
      ]
     },
     "execution_count": 134,
     "metadata": {},
     "output_type": "execute_result"
    }
   ],
   "source": [
    "proposal_classifications.head()"
   ]
  },
  {
   "cell_type": "code",
   "execution_count": 137,
   "metadata": {},
   "outputs": [
    {
     "name": "stderr",
     "output_type": "stream",
     "text": [
      "/Users/nmiles/miniconda3/envs/astroconda36/lib/python3.6/site-packages/pandas/core/indexing.py:205: SettingWithCopyWarning: \n",
      "A value is trying to be set on a copy of a slice from a DataFrame\n",
      "\n",
      "See the caveats in the documentation: http://pandas.pydata.org/pandas-docs/stable/user_guide/indexing.html#returning-a-view-versus-a-copy\n",
      "  self._setitem_with_indexer(indexer, value)\n"
     ]
    }
   ],
   "source": [
    "for num, fname in zip(proposal_num, flist_sorted):\n",
    "    proposal_classifications['fname'].loc[num-1] = fname"
   ]
  },
  {
   "cell_type": "code",
   "execution_count": 138,
   "metadata": {},
   "outputs": [
    {
     "data": {
      "text/html": [
       "<div>\n",
       "<style scoped>\n",
       "    .dataframe tbody tr th:only-of-type {\n",
       "        vertical-align: middle;\n",
       "    }\n",
       "\n",
       "    .dataframe tbody tr th {\n",
       "        vertical-align: top;\n",
       "    }\n",
       "\n",
       "    .dataframe thead th {\n",
       "        text-align: right;\n",
       "    }\n",
       "</style>\n",
       "<table border=\"1\" class=\"dataframe\">\n",
       "  <thead>\n",
       "    <tr style=\"text-align: right;\">\n",
       "      <th></th>\n",
       "      <th>proposal_num</th>\n",
       "      <th>classification</th>\n",
       "      <th>fname</th>\n",
       "    </tr>\n",
       "  </thead>\n",
       "  <tbody>\n",
       "    <tr>\n",
       "      <td>0</td>\n",
       "      <td>1</td>\n",
       "      <td>stellar physics</td>\n",
       "      <td>/Users/nmiles/PACMan_dist/proposal_data/Cy25_P...</td>\n",
       "    </tr>\n",
       "    <tr>\n",
       "      <td>1</td>\n",
       "      <td>2</td>\n",
       "      <td>galaxies and the igm</td>\n",
       "      <td>/Users/nmiles/PACMan_dist/proposal_data/Cy25_P...</td>\n",
       "    </tr>\n",
       "    <tr>\n",
       "      <td>2</td>\n",
       "      <td>3</td>\n",
       "      <td>stellar populations and the ism</td>\n",
       "      <td>/Users/nmiles/PACMan_dist/proposal_data/Cy25_P...</td>\n",
       "    </tr>\n",
       "    <tr>\n",
       "      <td>3</td>\n",
       "      <td>4</td>\n",
       "      <td>stellar physics</td>\n",
       "      <td>/Users/nmiles/PACMan_dist/proposal_data/Cy25_P...</td>\n",
       "    </tr>\n",
       "    <tr>\n",
       "      <td>4</td>\n",
       "      <td>5</td>\n",
       "      <td>stellar populations and the ism</td>\n",
       "      <td>/Users/nmiles/PACMan_dist/proposal_data/Cy25_P...</td>\n",
       "    </tr>\n",
       "  </tbody>\n",
       "</table>\n",
       "</div>"
      ],
      "text/plain": [
       "   proposal_num                   classification  \\\n",
       "0             1                  stellar physics   \n",
       "1             2             galaxies and the igm   \n",
       "2             3  stellar populations and the ism   \n",
       "3             4                  stellar physics   \n",
       "4             5  stellar populations and the ism   \n",
       "\n",
       "                                               fname  \n",
       "0  /Users/nmiles/PACMan_dist/proposal_data/Cy25_P...  \n",
       "1  /Users/nmiles/PACMan_dist/proposal_data/Cy25_P...  \n",
       "2  /Users/nmiles/PACMan_dist/proposal_data/Cy25_P...  \n",
       "3  /Users/nmiles/PACMan_dist/proposal_data/Cy25_P...  \n",
       "4  /Users/nmiles/PACMan_dist/proposal_data/Cy25_P...  "
      ]
     },
     "execution_count": 138,
     "metadata": {},
     "output_type": "execute_result"
    }
   ],
   "source": [
    "proposal_classifications.head()"
   ]
  },
  {
   "cell_type": "code",
   "execution_count": null,
   "metadata": {},
   "outputs": [],
   "source": [
    "df, data = pacman2020.read_in_dataset(flist_label=flist_label, flist_text=flist_sorted)"
   ]
  }
 ],
 "metadata": {
  "kernelspec": {
   "display_name": "Python 3",
   "language": "python",
   "name": "python3"
  },
  "language_info": {
   "codemirror_mode": {
    "name": "ipython",
    "version": 3
   },
   "file_extension": ".py",
   "mimetype": "text/x-python",
   "name": "python",
   "nbconvert_exporter": "python",
   "pygments_lexer": "ipython3",
   "version": "3.6.7"
  }
 },
 "nbformat": 4,
 "nbformat_minor": 4
}
