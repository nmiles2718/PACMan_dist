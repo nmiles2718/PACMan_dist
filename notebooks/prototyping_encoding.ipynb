{
 "cells": [
  {
   "cell_type": "markdown",
   "metadata": {},
   "source": [
    "### Text Classification\n",
    "\n",
    "The goal of this notebook is to walk through the machine learning step of the text classification process.\n",
    "\n",
    "1) Encoding\n",
    "\n",
    "2) Partitioning the dataset into distinct subgroups\n",
    "\n",
    "3) Vectorization (Term Frequency Inverse Document Frequency (TF-IDF))\n"
   ]
  },
  {
   "cell_type": "code",
   "execution_count": 1,
   "metadata": {},
   "outputs": [],
   "source": [
    "%matplotlib widget\n",
    "import glob\n",
    "import sys\n",
    "sys.path.append('/Users/nmiles/PACMan_dist/')\n",
    "\n",
    "\n",
    "from astropy.visualization import ImageNormalize, LinearStretch, ZScaleInterval\n",
    "import matplotlib.pyplot as plt\n",
    "plt.style.use('ggplot')\n",
    "import numpy as np\n",
    "import pacman2020 \n",
    "from sklearn.feature_selection import chi2\n",
    "from sklearn.feature_extraction.text import TfidfVectorizer, TfidfTransformer, CountVectorizer\n",
    "from sklearn.metrics import classification_report\n",
    "from sklearn.naive_bayes import MultinomialNB\n",
    "from sklearn.preprocessing import LabelEncoder\n",
    "from sklearn.pipeline import Pipeline\n",
    "from sklearn.pipeline import Pipeline\n",
    "from sklearn import model_selection, naive_bayes, svm\n",
    "from sklearn.metrics import accuracy_score"
   ]
  },
  {
   "cell_type": "code",
   "execution_count": 2,
   "metadata": {},
   "outputs": [],
   "source": [
    "def read_category_label(fname):\n",
    "    flabel = fname.replace('_training.txt','_Scientific_Category.txt')\n",
    "    with open(flabel, 'r') as fobj:\n",
    "        lines = fobj.readlines()\n",
    "    print(lines)"
   ]
  },
  {
   "cell_type": "code",
   "execution_count": 3,
   "metadata": {},
   "outputs": [],
   "source": [
    "fname = '/Users/nmiles/PACMan_dist/C25/training_corpus/0010_training.txt'"
   ]
  },
  {
   "cell_type": "code",
   "execution_count": 4,
   "metadata": {},
   "outputs": [
    {
     "name": "stdout",
     "output_type": "stream",
     "text": [
      "[' Cosmology']\n"
     ]
    }
   ],
   "source": [
    "read_category_label(fname)"
   ]
  },
  {
   "cell_type": "code",
   "execution_count": 5,
   "metadata": {},
   "outputs": [
    {
     "data": {
      "application/vnd.jupyter.widget-view+json": {
       "model_id": "ff1786db3e974b91a48884127f953783",
       "version_major": 2,
       "version_minor": 0
      },
      "text/plain": [
       "Canvas(toolbar=Toolbar(toolitems=[('Home', 'Reset original view', 'home', 'home'), ('Back', 'Back to previous …"
      ]
     },
     "metadata": {},
     "output_type": "display_data"
    }
   ],
   "source": [
    "text, cleaned_text, tokens = pacman2020.tokenize(fname=fname, N=20, plot=True)"
   ]
  },
  {
   "cell_type": "code",
   "execution_count": 8,
   "metadata": {},
   "outputs": [
    {
     "name": "stdout",
     "output_type": "stream",
     "text": [
      "Cosmological modeling of the Planck data and local values of Ho based on the Cepheid distance scale tied to Type Ia supernovae have yet to be reconciled. The two solutions now differ by 3.4 sigma; but, is not yet understood whether this tension is the result of systematic errors (in one or both of the techniques), or perhaps an indication of new physics beyond the standard cosmological model. Currently, the largest single systematic in the Type Ia supernova path to Ho is the small number of supernova-calibrating galaxies with Cepheid distances. We propose to break the impasse in the CMB/Cepheid Ho determinations with a third method: the tip o\n"
     ]
    }
   ],
   "source": [
    "print(text[:650])"
   ]
  },
  {
   "cell_type": "code",
   "execution_count": 9,
   "metadata": {},
   "outputs": [
    {
     "name": "stdout",
     "output_type": "stream",
     "text": [
      "cosmological modeling planck datum local value ho base cepheid distance scale tie type ia supernovae reconcile solution differ sigma understand tension result systematic error technique indication new physics standard cosmological model currently large single systematic type ia supernova path ho small number supernova calibrate galaxy cepheid distance propose break impasse cmb cepheid ho determination method tip red giant branch trgb empirically test method base understand physics trgb completel\n"
     ]
    }
   ],
   "source": [
    "print(cleaned_text[:500])"
   ]
  },
  {
   "cell_type": "code",
   "execution_count": 10,
   "metadata": {},
   "outputs": [],
   "source": [
    "flist_text = glob.glob('/Users/nmiles/PACMan_dist/C25/training_corpus/*training.txt')\n",
    "flist_label = glob.glob('/Users/nmiles/PACMan_dist/C25/training_corpus/*Scientific_Category.txt')"
   ]
  },
  {
   "cell_type": "code",
   "execution_count": 11,
   "metadata": {},
   "outputs": [
    {
     "name": "stderr",
     "output_type": "stream",
     "text": [
      "INFO [pacman2020.read_in_dataset:205] Reading in dataset...\n"
     ]
    },
    {
     "data": {
      "application/vnd.jupyter.widget-view+json": {
       "model_id": "6c6a4b69168e4ebba3df6ed844cc5eda",
       "version_major": 2,
       "version_minor": 0
      },
      "text/plain": [
       "HBox(children=(IntProgress(value=1, bar_style='info', max=1), HTML(value='')))"
      ]
     },
     "metadata": {},
     "output_type": "display_data"
    },
    {
     "name": "stdout",
     "output_type": "stream",
     "text": [
      "\n"
     ]
    }
   ],
   "source": [
    "df = pacman2020.read_in_dataset(flist_text=flist_text, flist_label=flist_label, notebook=True)"
   ]
  },
  {
   "cell_type": "code",
   "execution_count": null,
   "metadata": {},
   "outputs": [],
   "source": []
  },
  {
   "cell_type": "code",
   "execution_count": 24,
   "metadata": {},
   "outputs": [
    {
     "data": {
      "application/vnd.jupyter.widget-view+json": {
       "model_id": "947ef1965a294988a5bd9429fef9324b",
       "version_major": 2,
       "version_minor": 0
      },
      "text/plain": [
       "Canvas(toolbar=Toolbar(toolitems=[('Home', 'Reset original view', 'home', 'home'), ('Back', 'Back to previous …"
      ]
     },
     "metadata": {},
     "output_type": "display_data"
    },
    {
     "data": {
      "text/plain": [
       "<matplotlib.axes._subplots.AxesSubplot at 0x1a1f5c4050>"
      ]
     },
     "execution_count": 24,
     "metadata": {},
     "output_type": "execute_result"
    }
   ],
   "source": [
    "ddf, data = df\n",
    "categories = ddf['category'].value_counts()\n",
    "fig, ax = plt.subplots(nrows=1, ncols=1)\n",
    "categories.plot.barh(ax=ax)"
   ]
  },
  {
   "cell_type": "code",
   "execution_count": 26,
   "metadata": {},
   "outputs": [],
   "source": [
    "def create_balanced_subset(df, categories=[]):\n",
    "    subsets = {}\n",
    "    for category in categories:\n",
    "        data = df[df['category'] == category].loc[:100,:]\n",
    "        subsets[category] = data\n",
    "    return subsets"
   ]
  },
  {
   "cell_type": "code",
   "execution_count": 27,
   "metadata": {},
   "outputs": [
    {
     "name": "stdout",
     "output_type": "stream",
     "text": [
      "<class 'pandas.core.frame.DataFrame'>\n",
      "RangeIndex: 1208 entries, 0 to 1207\n",
      "Data columns (total 2 columns):\n",
      "text        1208 non-null object\n",
      "category    1208 non-null object\n",
      "dtypes: object(2)\n",
      "memory usage: 19.0+ KB\n"
     ]
    }
   ],
   "source": [
    "ddf.info()"
   ]
  },
  {
   "cell_type": "code",
   "execution_count": 28,
   "metadata": {},
   "outputs": [],
   "source": [
    "subsets = create_balanced_subset(ddf, categories=np.unique(ddf['category']))"
   ]
  },
  {
   "cell_type": "code",
   "execution_count": 29,
   "metadata": {},
   "outputs": [],
   "source": [
    "ddf['category_id'] = ddf['category'].factorize()[0]"
   ]
  },
  {
   "cell_type": "code",
   "execution_count": 32,
   "metadata": {},
   "outputs": [
    {
     "data": {
      "text/html": [
       "<div>\n",
       "<style scoped>\n",
       "    .dataframe tbody tr th:only-of-type {\n",
       "        vertical-align: middle;\n",
       "    }\n",
       "\n",
       "    .dataframe tbody tr th {\n",
       "        vertical-align: top;\n",
       "    }\n",
       "\n",
       "    .dataframe thead th {\n",
       "        text-align: right;\n",
       "    }\n",
       "</style>\n",
       "<table border=\"1\" class=\"dataframe\">\n",
       "  <thead>\n",
       "    <tr style=\"text-align: right;\">\n",
       "      <th></th>\n",
       "      <th>text</th>\n",
       "      <th>category</th>\n",
       "      <th>category_id</th>\n",
       "    </tr>\n",
       "  </thead>\n",
       "  <tbody>\n",
       "    <tr>\n",
       "      <td>1203</td>\n",
       "      <td>A very luminous (&gt;100mJy) Herschel selected su...</td>\n",
       "      <td>Galaxies and the IGM</td>\n",
       "      <td>1</td>\n",
       "    </tr>\n",
       "    <tr>\n",
       "      <td>1204</td>\n",
       "      <td>The unique UV capabilities of the HST provide ...</td>\n",
       "      <td>Stellar Physics</td>\n",
       "      <td>0</td>\n",
       "    </tr>\n",
       "    <tr>\n",
       "      <td>1205</td>\n",
       "      <td>The FS CMa stars are a paradoxical group of re...</td>\n",
       "      <td>Galaxies and the IGM</td>\n",
       "      <td>1</td>\n",
       "    </tr>\n",
       "    <tr>\n",
       "      <td>1206</td>\n",
       "      <td>Recent studies have provided evidence that dwa...</td>\n",
       "      <td>Massive Black Holes And Their Host Galaxies</td>\n",
       "      <td>6</td>\n",
       "    </tr>\n",
       "    <tr>\n",
       "      <td>1207</td>\n",
       "      <td>Ultraluminous X-ray sources (ULXs) were once a...</td>\n",
       "      <td>Stellar Physics</td>\n",
       "      <td>0</td>\n",
       "    </tr>\n",
       "  </tbody>\n",
       "</table>\n",
       "</div>"
      ],
      "text/plain": [
       "                                                   text  \\\n",
       "1203  A very luminous (>100mJy) Herschel selected su...   \n",
       "1204  The unique UV capabilities of the HST provide ...   \n",
       "1205  The FS CMa stars are a paradoxical group of re...   \n",
       "1206  Recent studies have provided evidence that dwa...   \n",
       "1207  Ultraluminous X-ray sources (ULXs) were once a...   \n",
       "\n",
       "                                         category  category_id  \n",
       "1203                         Galaxies and the IGM            1  \n",
       "1204                              Stellar Physics            0  \n",
       "1205                         Galaxies and the IGM            1  \n",
       "1206  Massive Black Holes And Their Host Galaxies            6  \n",
       "1207                              Stellar Physics            0  "
      ]
     },
     "execution_count": 32,
     "metadata": {},
     "output_type": "execute_result"
    }
   ],
   "source": [
    "ddf.tail()"
   ]
  },
  {
   "cell_type": "code",
   "execution_count": 33,
   "metadata": {},
   "outputs": [],
   "source": [
    "category_id_df = ddf[['category','category_id']]\n",
    "category_to_id = dict(category_id_df.values)\n",
    "id_to_category = dict(category_id_df[['category_id', 'category']].values)\n"
   ]
  },
  {
   "cell_type": "code",
   "execution_count": 34,
   "metadata": {},
   "outputs": [
    {
     "data": {
      "text/plain": [
       "{0: 'Stellar Physics',\n",
       " 1: 'Galaxies and the IGM',\n",
       " 2: 'Stellar Populations',\n",
       " 3: 'Planets and Planet Formation',\n",
       " 4: 'Cosmology',\n",
       " 5: 'Solar System',\n",
       " 6: 'Massive Black Holes And Their Host Galaxies'}"
      ]
     },
     "execution_count": 34,
     "metadata": {},
     "output_type": "execute_result"
    }
   ],
   "source": [
    "id_to_category"
   ]
  },
  {
   "cell_type": "code",
   "execution_count": 93,
   "metadata": {},
   "outputs": [],
   "source": [
    "tfidf_vect = TfidfVectorizer(max_features=5000,\n",
    "    tokenizer=pacman2020.spacy_tokenizer,\n",
    "    norm='l2',\n",
    "    ngram_range=(1, 2))"
   ]
  },
  {
   "cell_type": "code",
   "execution_count": 94,
   "metadata": {},
   "outputs": [
    {
     "data": {
      "text/plain": [
       "TfidfVectorizer(analyzer='word', binary=False, decode_error='strict',\n",
       "                dtype=<class 'numpy.float64'>, encoding='utf-8',\n",
       "                input='content', lowercase=True, max_df=1.0, max_features=5000,\n",
       "                min_df=1, ngram_range=(1, 2), norm='l2', preprocessor=None,\n",
       "                smooth_idf=True, stop_words=None, strip_accents=None,\n",
       "                sublinear_tf=False, token_pattern='(?u)\\\\b\\\\w\\\\w+\\\\b',\n",
       "                tokenizer=<function spacy_tokenizer at 0x111ebbef0>,\n",
       "                use_idf=True, vocabulary=None)"
      ]
     },
     "execution_count": 94,
     "metadata": {},
     "output_type": "execute_result"
    }
   ],
   "source": [
    "tfidf_vect.fit(ddf['text'])"
   ]
  },
  {
   "cell_type": "code",
   "execution_count": 121,
   "metadata": {},
   "outputs": [],
   "source": [
    "count_vect = CountVectorizer(max_features=10000, tokenizer=pacman2020.spacy_tokenizer)"
   ]
  },
  {
   "cell_type": "code",
   "execution_count": 123,
   "metadata": {},
   "outputs": [],
   "source": [
    "x_train, x_test, y_train, y_test = model_selection.train_test_split(ddf['text'], ddf['category_id'], test_size=0.2, train_size=0.8)"
   ]
  },
  {
   "cell_type": "code",
   "execution_count": 124,
   "metadata": {},
   "outputs": [
    {
     "data": {
      "text/plain": [
       "966"
      ]
     },
     "execution_count": 124,
     "metadata": {},
     "output_type": "execute_result"
    }
   ],
   "source": [
    " x_train.__len__()"
   ]
  },
  {
   "cell_type": "code",
   "execution_count": 125,
   "metadata": {},
   "outputs": [],
   "source": [
    "count_vect = count_vect.fit(x_train)"
   ]
  },
  {
   "cell_type": "code",
   "execution_count": 108,
   "metadata": {},
   "outputs": [],
   "source": [
    "Encoder = LabelEncoder()\n",
    "y_train = Encoder.fit_transform(y_train)\n",
    "y_test = Encoder.fit_transform(y_test)"
   ]
  },
  {
   "cell_type": "code",
   "execution_count": 109,
   "metadata": {},
   "outputs": [],
   "source": [
    "nb = Pipeline([('vect', count_vect),\n",
    "               ('clf', MultinomialNB(alpha=0.01)),\n",
    "              ])\n"
   ]
  },
  {
   "cell_type": "code",
   "execution_count": 110,
   "metadata": {},
   "outputs": [],
   "source": [
    "nb = nb.fit(x_train, y_train)"
   ]
  },
  {
   "cell_type": "code",
   "execution_count": 111,
   "metadata": {},
   "outputs": [],
   "source": [
    "y_pred = nb.predict(x_test)"
   ]
  },
  {
   "cell_type": "code",
   "execution_count": 112,
   "metadata": {},
   "outputs": [
    {
     "data": {
      "text/plain": [
       "array([0, 4, 2, 2, 1, 3, 0, 1, 2, 0, 1, 3, 1, 0, 2, 3, 5, 2, 4, 0, 2, 3,\n",
       "       1, 1, 3, 5, 3, 3, 0, 3, 4, 4, 6, 1, 2, 2, 1, 1, 3, 1, 1, 3, 0, 4,\n",
       "       6, 3, 2, 1, 2, 2, 6, 1, 3, 2, 5, 3, 0, 1, 0, 3, 3, 3, 3, 1, 0, 5,\n",
       "       5, 1, 6, 2, 4, 5, 6, 0, 1, 3, 3, 1, 1, 1, 4, 2, 5, 1, 1, 6, 3, 2,\n",
       "       1, 1, 4, 1, 2, 1, 1, 1, 1, 3, 3, 1, 2, 2, 2, 1, 2, 6, 6, 2, 4, 0,\n",
       "       2, 2, 0, 3, 4, 1, 0, 1, 2, 1, 4, 6, 2, 2, 2, 2, 2, 6, 2, 3, 3, 4,\n",
       "       3, 6, 2, 0, 0, 5, 1, 1, 2, 4, 6, 4, 0, 1, 0, 1, 3, 4, 6, 2, 1, 3,\n",
       "       3, 1, 5, 1, 2, 0, 6, 2, 2, 6, 0, 6, 2, 2, 4, 6, 0, 3, 2, 4, 2, 4,\n",
       "       2, 0, 6, 1, 4, 0, 4, 1, 6, 5, 3, 2, 4, 3, 2, 3, 0, 2, 1, 0, 4, 0,\n",
       "       3, 1, 0, 2, 0, 2, 1, 4, 4, 1, 1, 0, 4, 2, 1, 2, 2, 1, 2, 3, 4, 2,\n",
       "       2, 0, 6, 1, 1, 1, 0, 5, 1, 1, 1, 3, 2, 1, 0, 1, 0, 6, 3, 6, 4, 3])"
      ]
     },
     "execution_count": 112,
     "metadata": {},
     "output_type": "execute_result"
    }
   ],
   "source": [
    "y_pred"
   ]
  },
  {
   "cell_type": "code",
   "execution_count": 114,
   "metadata": {},
   "outputs": [
    {
     "data": {
      "text/plain": [
       "'Galaxies and the IGM'"
      ]
     },
     "execution_count": 114,
     "metadata": {},
     "output_type": "execute_result"
    }
   ],
   "source": [
    "id_to_category[y_test[3]]"
   ]
  },
  {
   "cell_type": "code",
   "execution_count": 116,
   "metadata": {},
   "outputs": [],
   "source": [
    "y_pred_prob = nb.predict_proba(x_test)"
   ]
  },
  {
   "cell_type": "code",
   "execution_count": 119,
   "metadata": {},
   "outputs": [
    {
     "name": "stdout",
     "output_type": "stream",
     "text": [
      "pred: Stellar Physics, truth: Galaxies and the IGM probability: 1.000\n",
      "pred: Cosmology, truth: Massive Black Holes And Their Host Galaxies probability: 1.000\n",
      "pred: Stellar Populations, truth: Galaxies and the IGM probability: 1.000\n",
      "pred: Stellar Populations, truth: Galaxies and the IGM probability: 1.000\n",
      "pred: Galaxies and the IGM, truth: Stellar Physics probability: 1.000\n",
      "pred: Planets and Planet Formation, truth: Galaxies and the IGM probability: 1.000\n",
      "pred: Stellar Physics, truth: Stellar Populations probability: 1.000\n",
      "pred: Galaxies and the IGM, truth: Stellar Physics probability: 1.000\n",
      "pred: Stellar Populations, truth: Galaxies and the IGM probability: 1.000\n",
      "pred: Stellar Physics, truth: Stellar Physics probability: 1.000\n",
      "pred: Galaxies and the IGM, truth: Galaxies and the IGM probability: 1.000\n",
      "pred: Planets and Planet Formation, truth: Stellar Physics probability: 1.000\n",
      "pred: Galaxies and the IGM, truth: Massive Black Holes And Their Host Galaxies probability: 1.000\n",
      "pred: Stellar Physics, truth: Solar System probability: 0.979\n",
      "pred: Stellar Populations, truth: Stellar Physics probability: 1.000\n",
      "pred: Planets and Planet Formation, truth: Planets and Planet Formation probability: 1.000\n",
      "pred: Solar System, truth: Planets and Planet Formation probability: 1.000\n",
      "pred: Stellar Populations, truth: Galaxies and the IGM probability: 0.807\n",
      "pred: Cosmology, truth: Stellar Physics probability: 1.000\n",
      "pred: Stellar Physics, truth: Galaxies and the IGM probability: 1.000\n",
      "pred: Stellar Populations, truth: Stellar Physics probability: 1.000\n",
      "pred: Planets and Planet Formation, truth: Massive Black Holes And Their Host Galaxies probability: 0.989\n",
      "pred: Galaxies and the IGM, truth: Massive Black Holes And Their Host Galaxies probability: 1.000\n",
      "pred: Galaxies and the IGM, truth: Planets and Planet Formation probability: 0.973\n",
      "pred: Planets and Planet Formation, truth: Galaxies and the IGM probability: 0.998\n",
      "pred: Solar System, truth: Stellar Populations probability: 0.990\n",
      "pred: Planets and Planet Formation, truth: Galaxies and the IGM probability: 1.000\n",
      "pred: Planets and Planet Formation, truth: Stellar Physics probability: 1.000\n",
      "pred: Stellar Physics, truth: Massive Black Holes And Their Host Galaxies probability: 1.000\n",
      "pred: Planets and Planet Formation, truth: Stellar Populations probability: 0.999\n",
      "pred: Cosmology, truth: Stellar Physics probability: 1.000\n",
      "pred: Cosmology, truth: Stellar Physics probability: 0.981\n",
      "pred: Massive Black Holes And Their Host Galaxies, truth: Stellar Physics probability: 0.998\n",
      "pred: Galaxies and the IGM, truth: Galaxies and the IGM probability: 0.991\n",
      "pred: Stellar Populations, truth: Stellar Physics probability: 1.000\n",
      "pred: Stellar Populations, truth: Cosmology probability: 0.992\n",
      "pred: Galaxies and the IGM, truth: Galaxies and the IGM probability: 1.000\n",
      "pred: Galaxies and the IGM, truth: Planets and Planet Formation probability: 1.000\n",
      "pred: Planets and Planet Formation, truth: Galaxies and the IGM probability: 1.000\n",
      "pred: Galaxies and the IGM, truth: Galaxies and the IGM probability: 0.830\n",
      "pred: Galaxies and the IGM, truth: Galaxies and the IGM probability: 0.976\n",
      "pred: Planets and Planet Formation, truth: Stellar Populations probability: 0.974\n",
      "pred: Stellar Physics, truth: Stellar Physics probability: 1.000\n",
      "pred: Cosmology, truth: Stellar Physics probability: 1.000\n",
      "pred: Massive Black Holes And Their Host Galaxies, truth: Stellar Physics probability: 1.000\n",
      "pred: Planets and Planet Formation, truth: Galaxies and the IGM probability: 1.000\n",
      "pred: Stellar Populations, truth: Stellar Populations probability: 1.000\n",
      "pred: Galaxies and the IGM, truth: Galaxies and the IGM probability: 1.000\n",
      "pred: Stellar Populations, truth: Galaxies and the IGM probability: 1.000\n",
      "pred: Stellar Populations, truth: Massive Black Holes And Their Host Galaxies probability: 1.000\n",
      "pred: Massive Black Holes And Their Host Galaxies, truth: Stellar Physics probability: 1.000\n",
      "pred: Galaxies and the IGM, truth: Stellar Physics probability: 1.000\n",
      "pred: Planets and Planet Formation, truth: Massive Black Holes And Their Host Galaxies probability: 1.000\n",
      "pred: Stellar Populations, truth: Stellar Physics probability: 1.000\n",
      "pred: Solar System, truth: Massive Black Holes And Their Host Galaxies probability: 1.000\n",
      "pred: Planets and Planet Formation, truth: Solar System probability: 1.000\n",
      "pred: Stellar Physics, truth: Stellar Populations probability: 0.988\n",
      "pred: Galaxies and the IGM, truth: Massive Black Holes And Their Host Galaxies probability: 1.000\n",
      "pred: Stellar Physics, truth: Galaxies and the IGM probability: 0.758\n",
      "pred: Planets and Planet Formation, truth: Planets and Planet Formation probability: 0.992\n",
      "pred: Planets and Planet Formation, truth: Stellar Physics probability: 1.000\n",
      "pred: Planets and Planet Formation, truth: Galaxies and the IGM probability: 1.000\n",
      "pred: Planets and Planet Formation, truth: Stellar Physics probability: 1.000\n",
      "pred: Galaxies and the IGM, truth: Galaxies and the IGM probability: 1.000\n",
      "pred: Stellar Physics, truth: Cosmology probability: 1.000\n",
      "pred: Solar System, truth: Planets and Planet Formation probability: 1.000\n",
      "pred: Solar System, truth: Stellar Populations probability: 1.000\n",
      "pred: Galaxies and the IGM, truth: Solar System probability: 1.000\n",
      "pred: Massive Black Holes And Their Host Galaxies, truth: Planets and Planet Formation probability: 1.000\n",
      "pred: Stellar Populations, truth: Stellar Physics probability: 1.000\n",
      "pred: Cosmology, truth: Planets and Planet Formation probability: 1.000\n",
      "pred: Solar System, truth: Galaxies and the IGM probability: 1.000\n",
      "pred: Massive Black Holes And Their Host Galaxies, truth: Massive Black Holes And Their Host Galaxies probability: 1.000\n",
      "pred: Stellar Physics, truth: Massive Black Holes And Their Host Galaxies probability: 1.000\n",
      "pred: Galaxies and the IGM, truth: Galaxies and the IGM probability: 0.909\n",
      "pred: Planets and Planet Formation, truth: Stellar Physics probability: 0.999\n",
      "pred: Planets and Planet Formation, truth: Stellar Physics probability: 0.916\n",
      "pred: Galaxies and the IGM, truth: Cosmology probability: 1.000\n",
      "pred: Galaxies and the IGM, truth: Planets and Planet Formation probability: 1.000\n",
      "pred: Galaxies and the IGM, truth: Stellar Physics probability: 0.999\n",
      "pred: Cosmology, truth: Planets and Planet Formation probability: 1.000\n",
      "pred: Stellar Populations, truth: Massive Black Holes And Their Host Galaxies probability: 1.000\n",
      "pred: Solar System, truth: Galaxies and the IGM probability: 1.000\n",
      "pred: Galaxies and the IGM, truth: Galaxies and the IGM probability: 1.000\n",
      "pred: Galaxies and the IGM, truth: Stellar Physics probability: 0.746\n",
      "pred: Massive Black Holes And Their Host Galaxies, truth: Planets and Planet Formation probability: 0.861\n",
      "pred: Planets and Planet Formation, truth: Galaxies and the IGM probability: 0.887\n",
      "pred: Stellar Populations, truth: Galaxies and the IGM probability: 1.000\n",
      "pred: Galaxies and the IGM, truth: Stellar Physics probability: 0.922\n",
      "pred: Galaxies and the IGM, truth: Galaxies and the IGM probability: 0.977\n",
      "pred: Cosmology, truth: Massive Black Holes And Their Host Galaxies probability: 1.000\n",
      "pred: Galaxies and the IGM, truth: Stellar Physics probability: 1.000\n",
      "pred: Stellar Populations, truth: Galaxies and the IGM probability: 1.000\n",
      "pred: Galaxies and the IGM, truth: Stellar Populations probability: 1.000\n",
      "pred: Galaxies and the IGM, truth: Galaxies and the IGM probability: 0.996\n",
      "pred: Galaxies and the IGM, truth: Massive Black Holes And Their Host Galaxies probability: 1.000\n",
      "pred: Galaxies and the IGM, truth: Planets and Planet Formation probability: 1.000\n",
      "pred: Planets and Planet Formation, truth: Stellar Physics probability: 0.999\n",
      "pred: Planets and Planet Formation, truth: Stellar Populations probability: 1.000\n",
      "pred: Galaxies and the IGM, truth: Cosmology probability: 1.000\n",
      "pred: Stellar Populations, truth: Planets and Planet Formation probability: 1.000\n",
      "pred: Stellar Populations, truth: Stellar Physics probability: 1.000\n",
      "pred: Stellar Populations, truth: Galaxies and the IGM probability: 1.000\n",
      "pred: Galaxies and the IGM, truth: Cosmology probability: 1.000\n",
      "pred: Stellar Populations, truth: Stellar Physics probability: 1.000\n",
      "pred: Massive Black Holes And Their Host Galaxies, truth: Stellar Populations probability: 1.000\n",
      "pred: Massive Black Holes And Their Host Galaxies, truth: Stellar Physics probability: 0.990\n",
      "pred: Stellar Populations, truth: Galaxies and the IGM probability: 0.947\n",
      "pred: Cosmology, truth: Cosmology probability: 1.000\n",
      "pred: Stellar Physics, truth: Stellar Populations probability: 1.000\n",
      "pred: Stellar Populations, truth: Solar System probability: 1.000\n",
      "pred: Stellar Populations, truth: Galaxies and the IGM probability: 1.000\n",
      "pred: Stellar Physics, truth: Massive Black Holes And Their Host Galaxies probability: 0.997\n",
      "pred: Planets and Planet Formation, truth: Stellar Populations probability: 1.000\n",
      "pred: Cosmology, truth: Stellar Physics probability: 0.971\n",
      "pred: Galaxies and the IGM, truth: Galaxies and the IGM probability: 1.000\n",
      "pred: Stellar Physics, truth: Planets and Planet Formation probability: 1.000\n",
      "pred: Galaxies and the IGM, truth: Massive Black Holes And Their Host Galaxies probability: 0.971\n",
      "pred: Stellar Populations, truth: Stellar Physics probability: 1.000\n",
      "pred: Galaxies and the IGM, truth: Stellar Physics probability: 0.999\n",
      "pred: Cosmology, truth: Stellar Physics probability: 1.000\n",
      "pred: Massive Black Holes And Their Host Galaxies, truth: Massive Black Holes And Their Host Galaxies probability: 1.000\n",
      "pred: Stellar Populations, truth: Galaxies and the IGM probability: 1.000\n",
      "pred: Stellar Populations, truth: Stellar Physics probability: 0.991\n",
      "pred: Stellar Populations, truth: Planets and Planet Formation probability: 1.000\n",
      "pred: Stellar Populations, truth: Stellar Physics probability: 1.000\n",
      "pred: Stellar Populations, truth: Planets and Planet Formation probability: 0.988\n",
      "pred: Massive Black Holes And Their Host Galaxies, truth: Massive Black Holes And Their Host Galaxies probability: 0.951\n",
      "pred: Stellar Populations, truth: Solar System probability: 1.000\n",
      "pred: Planets and Planet Formation, truth: Planets and Planet Formation probability: 1.000\n",
      "pred: Planets and Planet Formation, truth: Galaxies and the IGM probability: 1.000\n",
      "pred: Cosmology, truth: Stellar Populations probability: 1.000\n",
      "pred: Planets and Planet Formation, truth: Galaxies and the IGM probability: 1.000\n",
      "pred: Massive Black Holes And Their Host Galaxies, truth: Galaxies and the IGM probability: 0.994\n",
      "pred: Stellar Populations, truth: Stellar Physics probability: 1.000\n",
      "pred: Stellar Physics, truth: Massive Black Holes And Their Host Galaxies probability: 0.999\n",
      "pred: Stellar Physics, truth: Stellar Physics probability: 0.999\n",
      "pred: Solar System, truth: Massive Black Holes And Their Host Galaxies probability: 1.000\n",
      "pred: Galaxies and the IGM, truth: Solar System probability: 1.000\n",
      "pred: Galaxies and the IGM, truth: Galaxies and the IGM probability: 0.999\n",
      "pred: Stellar Populations, truth: Stellar Physics probability: 1.000\n",
      "pred: Cosmology, truth: Stellar Populations probability: 1.000\n",
      "pred: Massive Black Holes And Their Host Galaxies, truth: Solar System probability: 0.843\n",
      "pred: Cosmology, truth: Stellar Physics probability: 1.000\n",
      "pred: Stellar Physics, truth: Galaxies and the IGM probability: 0.857\n",
      "pred: Galaxies and the IGM, truth: Galaxies and the IGM probability: 0.999\n",
      "pred: Stellar Physics, truth: Stellar Physics probability: 1.000\n",
      "pred: Galaxies and the IGM, truth: Stellar Physics probability: 0.573\n",
      "pred: Planets and Planet Formation, truth: Galaxies and the IGM probability: 1.000\n",
      "pred: Cosmology, truth: Galaxies and the IGM probability: 1.000\n",
      "pred: Massive Black Holes And Their Host Galaxies, truth: Galaxies and the IGM probability: 1.000\n",
      "pred: Stellar Populations, truth: Stellar Physics probability: 1.000\n",
      "pred: Galaxies and the IGM, truth: Stellar Populations probability: 1.000\n",
      "pred: Planets and Planet Formation, truth: Stellar Physics probability: 1.000\n",
      "pred: Planets and Planet Formation, truth: Galaxies and the IGM probability: 1.000\n",
      "pred: Galaxies and the IGM, truth: Galaxies and the IGM probability: 1.000\n",
      "pred: Solar System, truth: Stellar Populations probability: 1.000\n",
      "pred: Galaxies and the IGM, truth: Stellar Physics probability: 1.000\n",
      "pred: Stellar Populations, truth: Galaxies and the IGM probability: 1.000\n",
      "pred: Stellar Physics, truth: Massive Black Holes And Their Host Galaxies probability: 1.000\n",
      "pred: Massive Black Holes And Their Host Galaxies, truth: Galaxies and the IGM probability: 1.000\n",
      "pred: Stellar Populations, truth: Stellar Populations probability: 1.000\n",
      "pred: Stellar Populations, truth: Stellar Physics probability: 1.000\n",
      "pred: Massive Black Holes And Their Host Galaxies, truth: Galaxies and the IGM probability: 1.000\n",
      "pred: Stellar Physics, truth: Galaxies and the IGM probability: 1.000\n",
      "pred: Massive Black Holes And Their Host Galaxies, truth: Stellar Populations probability: 1.000\n",
      "pred: Stellar Populations, truth: Planets and Planet Formation probability: 1.000\n",
      "pred: Stellar Populations, truth: Galaxies and the IGM probability: 0.998\n",
      "pred: Cosmology, truth: Galaxies and the IGM probability: 1.000\n",
      "pred: Massive Black Holes And Their Host Galaxies, truth: Stellar Physics probability: 1.000\n",
      "pred: Stellar Physics, truth: Galaxies and the IGM probability: 1.000\n",
      "pred: Planets and Planet Formation, truth: Galaxies and the IGM probability: 1.000\n",
      "pred: Stellar Populations, truth: Massive Black Holes And Their Host Galaxies probability: 1.000\n",
      "pred: Cosmology, truth: Galaxies and the IGM probability: 0.998\n",
      "pred: Stellar Populations, truth: Galaxies and the IGM probability: 1.000\n",
      "pred: Cosmology, truth: Galaxies and the IGM probability: 1.000\n",
      "pred: Stellar Populations, truth: Massive Black Holes And Their Host Galaxies probability: 1.000\n",
      "pred: Stellar Physics, truth: Stellar Populations probability: 0.823\n",
      "pred: Massive Black Holes And Their Host Galaxies, truth: Galaxies and the IGM probability: 1.000\n",
      "pred: Galaxies and the IGM, truth: Massive Black Holes And Their Host Galaxies probability: 0.999\n",
      "pred: Cosmology, truth: Stellar Populations probability: 0.948\n",
      "pred: Stellar Physics, truth: Planets and Planet Formation probability: 0.998\n",
      "pred: Cosmology, truth: Stellar Physics probability: 0.999\n",
      "pred: Galaxies and the IGM, truth: Galaxies and the IGM probability: 0.954\n",
      "pred: Massive Black Holes And Their Host Galaxies, truth: Planets and Planet Formation probability: 0.748\n",
      "pred: Solar System, truth: Planets and Planet Formation probability: 0.509\n",
      "pred: Planets and Planet Formation, truth: Stellar Populations probability: 0.999\n",
      "pred: Stellar Populations, truth: Galaxies and the IGM probability: 0.998\n",
      "pred: Cosmology, truth: Planets and Planet Formation probability: 1.000\n",
      "pred: Planets and Planet Formation, truth: Galaxies and the IGM probability: 0.708\n",
      "pred: Stellar Populations, truth: Cosmology probability: 1.000\n",
      "pred: Planets and Planet Formation, truth: Stellar Populations probability: 1.000\n",
      "pred: Stellar Physics, truth: Stellar Physics probability: 1.000\n",
      "pred: Stellar Populations, truth: Stellar Physics probability: 1.000\n",
      "pred: Galaxies and the IGM, truth: Galaxies and the IGM probability: 1.000\n",
      "pred: Stellar Physics, truth: Stellar Physics probability: 1.000\n",
      "pred: Cosmology, truth: Planets and Planet Formation probability: 1.000\n",
      "pred: Stellar Physics, truth: Massive Black Holes And Their Host Galaxies probability: 0.645\n",
      "pred: Planets and Planet Formation, truth: Massive Black Holes And Their Host Galaxies probability: 1.000\n",
      "pred: Galaxies and the IGM, truth: Planets and Planet Formation probability: 0.999\n",
      "pred: Stellar Physics, truth: Massive Black Holes And Their Host Galaxies probability: 0.721\n",
      "pred: Stellar Populations, truth: Stellar Physics probability: 1.000\n",
      "pred: Stellar Physics, truth: Stellar Physics probability: 0.997\n",
      "pred: Stellar Populations, truth: Cosmology probability: 1.000\n",
      "pred: Galaxies and the IGM, truth: Massive Black Holes And Their Host Galaxies probability: 1.000\n",
      "pred: Cosmology, truth: Stellar Physics probability: 1.000\n",
      "pred: Cosmology, truth: Massive Black Holes And Their Host Galaxies probability: 1.000\n",
      "pred: Galaxies and the IGM, truth: Cosmology probability: 0.997\n",
      "pred: Galaxies and the IGM, truth: Stellar Physics probability: 0.702\n",
      "pred: Stellar Physics, truth: Stellar Physics probability: 0.997\n",
      "pred: Cosmology, truth: Galaxies and the IGM probability: 0.985\n",
      "pred: Stellar Populations, truth: Planets and Planet Formation probability: 0.988\n",
      "pred: Galaxies and the IGM, truth: Solar System probability: 0.998\n",
      "pred: Stellar Populations, truth: Massive Black Holes And Their Host Galaxies probability: 1.000\n",
      "pred: Stellar Populations, truth: Massive Black Holes And Their Host Galaxies probability: 1.000\n",
      "pred: Galaxies and the IGM, truth: Stellar Physics probability: 1.000\n",
      "pred: Stellar Populations, truth: Massive Black Holes And Their Host Galaxies probability: 0.999\n",
      "pred: Planets and Planet Formation, truth: Massive Black Holes And Their Host Galaxies probability: 1.000\n",
      "pred: Cosmology, truth: Solar System probability: 0.742\n",
      "pred: Stellar Populations, truth: Stellar Populations probability: 0.738\n",
      "pred: Stellar Populations, truth: Solar System probability: 1.000\n",
      "pred: Stellar Physics, truth: Galaxies and the IGM probability: 1.000\n",
      "pred: Massive Black Holes And Their Host Galaxies, truth: Solar System probability: 1.000\n",
      "pred: Galaxies and the IGM, truth: Stellar Populations probability: 1.000\n",
      "pred: Galaxies and the IGM, truth: Stellar Physics probability: 0.993\n",
      "pred: Galaxies and the IGM, truth: Cosmology probability: 1.000\n",
      "pred: Stellar Physics, truth: Galaxies and the IGM probability: 0.996\n",
      "pred: Solar System, truth: Cosmology probability: 1.000\n",
      "pred: Galaxies and the IGM, truth: Stellar Physics probability: 0.601\n",
      "pred: Galaxies and the IGM, truth: Galaxies and the IGM probability: 0.999\n",
      "pred: Galaxies and the IGM, truth: Stellar Physics probability: 1.000\n",
      "pred: Planets and Planet Formation, truth: Cosmology probability: 0.998\n",
      "pred: Stellar Populations, truth: Stellar Populations probability: 1.000\n",
      "pred: Galaxies and the IGM, truth: Massive Black Holes And Their Host Galaxies probability: 1.000\n",
      "pred: Stellar Physics, truth: Galaxies and the IGM probability: 0.979\n",
      "pred: Galaxies and the IGM, truth: Stellar Physics probability: 1.000\n",
      "pred: Stellar Physics, truth: Galaxies and the IGM probability: 0.852\n",
      "pred: Massive Black Holes And Their Host Galaxies, truth: Galaxies and the IGM probability: 0.831\n",
      "pred: Planets and Planet Formation, truth: Galaxies and the IGM probability: 0.927\n",
      "pred: Massive Black Holes And Their Host Galaxies, truth: Galaxies and the IGM probability: 0.914\n",
      "pred: Cosmology, truth: Galaxies and the IGM probability: 1.000\n",
      "pred: Planets and Planet Formation, truth: Stellar Populations probability: 1.000\n"
     ]
    }
   ],
   "source": [
    "for prob, truth in zip(y_pred_prob, y_test):\n",
    "    argmax = np.argmax(prob)\n",
    "    print(f\"pred: {id_to_category[argmax]}, truth: {id_to_category[truth]} probability: {prob[argmax]:.3f}\")"
   ]
  },
  {
   "cell_type": "code",
   "execution_count": 115,
   "metadata": {},
   "outputs": [
    {
     "data": {
      "text/plain": [
       "'Stellar Populations'"
      ]
     },
     "execution_count": 115,
     "metadata": {},
     "output_type": "execute_result"
    }
   ],
   "source": [
    "id_to_category[y_pred[3]]"
   ]
  },
  {
   "cell_type": "code",
   "execution_count": 88,
   "metadata": {},
   "outputs": [
    {
     "name": "stdout",
     "output_type": "stream",
     "text": [
      "Percent correct: 21.07%\n"
     ]
    }
   ],
   "source": [
    "print(f\"Percent correct: {100*np.sum(y_pred == y_test)/len(y_pred):.2f}%\")"
   ]
  },
  {
   "cell_type": "code",
   "execution_count": 69,
   "metadata": {},
   "outputs": [
    {
     "name": "stdout",
     "output_type": "stream",
     "text": [
      "Planets and Planet Formation Galaxies and the IGM\n"
     ]
    }
   ],
   "source": [
    "print(y_pred[0],y_test.iloc[0])"
   ]
  },
  {
   "cell_type": "code",
   "execution_count": 70,
   "metadata": {},
   "outputs": [
    {
     "ename": "ValueError",
     "evalue": "Found input variables with inconsistent numbers of samples: [1, 242]",
     "output_type": "error",
     "traceback": [
      "\u001b[0;31m---------------------------------------------------------------------------\u001b[0m",
      "\u001b[0;31mValueError\u001b[0m                                Traceback (most recent call last)",
      "\u001b[0;32m<ipython-input-70-0443256c5f1f>\u001b[0m in \u001b[0;36m<module>\u001b[0;34m\u001b[0m\n\u001b[0;32m----> 1\u001b[0;31m \u001b[0mprint\u001b[0m\u001b[0;34m(\u001b[0m\u001b[0;34mf'accuracy {accuracy_score(y_pred, y_test)}'\u001b[0m\u001b[0;34m)\u001b[0m\u001b[0;34m\u001b[0m\u001b[0;34m\u001b[0m\u001b[0m\n\u001b[0m\u001b[1;32m      2\u001b[0m \u001b[0mprint\u001b[0m\u001b[0;34m(\u001b[0m\u001b[0mclassification_report\u001b[0m\u001b[0;34m(\u001b[0m\u001b[0my_test\u001b[0m\u001b[0;34m,\u001b[0m \u001b[0my_pred\u001b[0m\u001b[0;34m,\u001b[0m \u001b[0mtarget_names\u001b[0m\u001b[0;34m=\u001b[0m\u001b[0mlist\u001b[0m\u001b[0;34m(\u001b[0m\u001b[0mid_to_category\u001b[0m\u001b[0;34m.\u001b[0m\u001b[0mvalues\u001b[0m\u001b[0;34m(\u001b[0m\u001b[0;34m)\u001b[0m\u001b[0;34m)\u001b[0m\u001b[0;34m)\u001b[0m\u001b[0;34m)\u001b[0m\u001b[0;34m\u001b[0m\u001b[0;34m\u001b[0m\u001b[0m\n",
      "\u001b[0;32m~/miniconda3/envs/astroconda/lib/python3.7/site-packages/sklearn/metrics/classification.py\u001b[0m in \u001b[0;36maccuracy_score\u001b[0;34m(y_true, y_pred, normalize, sample_weight)\u001b[0m\n\u001b[1;32m    174\u001b[0m \u001b[0;34m\u001b[0m\u001b[0m\n\u001b[1;32m    175\u001b[0m     \u001b[0;31m# Compute accuracy for each possible representation\u001b[0m\u001b[0;34m\u001b[0m\u001b[0;34m\u001b[0m\u001b[0;34m\u001b[0m\u001b[0m\n\u001b[0;32m--> 176\u001b[0;31m     \u001b[0my_type\u001b[0m\u001b[0;34m,\u001b[0m \u001b[0my_true\u001b[0m\u001b[0;34m,\u001b[0m \u001b[0my_pred\u001b[0m \u001b[0;34m=\u001b[0m \u001b[0m_check_targets\u001b[0m\u001b[0;34m(\u001b[0m\u001b[0my_true\u001b[0m\u001b[0;34m,\u001b[0m \u001b[0my_pred\u001b[0m\u001b[0;34m)\u001b[0m\u001b[0;34m\u001b[0m\u001b[0;34m\u001b[0m\u001b[0m\n\u001b[0m\u001b[1;32m    177\u001b[0m     \u001b[0mcheck_consistent_length\u001b[0m\u001b[0;34m(\u001b[0m\u001b[0my_true\u001b[0m\u001b[0;34m,\u001b[0m \u001b[0my_pred\u001b[0m\u001b[0;34m,\u001b[0m \u001b[0msample_weight\u001b[0m\u001b[0;34m)\u001b[0m\u001b[0;34m\u001b[0m\u001b[0;34m\u001b[0m\u001b[0m\n\u001b[1;32m    178\u001b[0m     \u001b[0;32mif\u001b[0m \u001b[0my_type\u001b[0m\u001b[0;34m.\u001b[0m\u001b[0mstartswith\u001b[0m\u001b[0;34m(\u001b[0m\u001b[0;34m'multilabel'\u001b[0m\u001b[0;34m)\u001b[0m\u001b[0;34m:\u001b[0m\u001b[0;34m\u001b[0m\u001b[0;34m\u001b[0m\u001b[0m\n",
      "\u001b[0;32m~/miniconda3/envs/astroconda/lib/python3.7/site-packages/sklearn/metrics/classification.py\u001b[0m in \u001b[0;36m_check_targets\u001b[0;34m(y_true, y_pred)\u001b[0m\n\u001b[1;32m     69\u001b[0m     \u001b[0my_pred\u001b[0m \u001b[0;34m:\u001b[0m \u001b[0marray\u001b[0m \u001b[0;32mor\u001b[0m \u001b[0mindicator\u001b[0m \u001b[0mmatrix\u001b[0m\u001b[0;34m\u001b[0m\u001b[0;34m\u001b[0m\u001b[0m\n\u001b[1;32m     70\u001b[0m     \"\"\"\n\u001b[0;32m---> 71\u001b[0;31m     \u001b[0mcheck_consistent_length\u001b[0m\u001b[0;34m(\u001b[0m\u001b[0my_true\u001b[0m\u001b[0;34m,\u001b[0m \u001b[0my_pred\u001b[0m\u001b[0;34m)\u001b[0m\u001b[0;34m\u001b[0m\u001b[0;34m\u001b[0m\u001b[0m\n\u001b[0m\u001b[1;32m     72\u001b[0m     \u001b[0mtype_true\u001b[0m \u001b[0;34m=\u001b[0m \u001b[0mtype_of_target\u001b[0m\u001b[0;34m(\u001b[0m\u001b[0my_true\u001b[0m\u001b[0;34m)\u001b[0m\u001b[0;34m\u001b[0m\u001b[0;34m\u001b[0m\u001b[0m\n\u001b[1;32m     73\u001b[0m     \u001b[0mtype_pred\u001b[0m \u001b[0;34m=\u001b[0m \u001b[0mtype_of_target\u001b[0m\u001b[0;34m(\u001b[0m\u001b[0my_pred\u001b[0m\u001b[0;34m)\u001b[0m\u001b[0;34m\u001b[0m\u001b[0;34m\u001b[0m\u001b[0m\n",
      "\u001b[0;32m~/miniconda3/envs/astroconda/lib/python3.7/site-packages/sklearn/utils/validation.py\u001b[0m in \u001b[0;36mcheck_consistent_length\u001b[0;34m(*arrays)\u001b[0m\n\u001b[1;32m    203\u001b[0m     \u001b[0;32mif\u001b[0m \u001b[0mlen\u001b[0m\u001b[0;34m(\u001b[0m\u001b[0muniques\u001b[0m\u001b[0;34m)\u001b[0m \u001b[0;34m>\u001b[0m \u001b[0;36m1\u001b[0m\u001b[0;34m:\u001b[0m\u001b[0;34m\u001b[0m\u001b[0;34m\u001b[0m\u001b[0m\n\u001b[1;32m    204\u001b[0m         raise ValueError(\"Found input variables with inconsistent numbers of\"\n\u001b[0;32m--> 205\u001b[0;31m                          \" samples: %r\" % [int(l) for l in lengths])\n\u001b[0m\u001b[1;32m    206\u001b[0m \u001b[0;34m\u001b[0m\u001b[0m\n\u001b[1;32m    207\u001b[0m \u001b[0;34m\u001b[0m\u001b[0m\n",
      "\u001b[0;31mValueError\u001b[0m: Found input variables with inconsistent numbers of samples: [1, 242]"
     ]
    }
   ],
   "source": [
    "print(f'accuracy {accuracy_score(y_pred, y_test)}')\n",
    "print(classification_report(y_test, y_pred, target_names=list(id_to_category.values())))"
   ]
  },
  {
   "cell_type": "code",
   "execution_count": null,
   "metadata": {},
   "outputs": [],
   "source": [
    "tfidf_vect = TfidfVectorizer(\n",
    "    sublinear_tf=True, \n",
    "    min_df=10,\n",
    "    max_features=\n",
    "    tokenizer=pacman2020.spacy_tokenizer,\n",
    "    norm='l2',\n",
    "    ngram_range=(1, 2))"
   ]
  },
  {
   "cell_type": "code",
   "execution_count": null,
   "metadata": {},
   "outputs": [],
   "source": [
    "tfidf_vect.fit(ddf['text'])"
   ]
  },
  {
   "cell_type": "code",
   "execution_count": null,
   "metadata": {},
   "outputs": [],
   "source": [
    "# tfidf_vector = TfidfVectorizer(tokenizer = spacy_tokenizer)\n",
    "# Tfidf_vect = TfidfVectorizer(tokenizer = pacman2020.spacy_tokenizer, max_features=200)"
   ]
  },
  {
   "cell_type": "code",
   "execution_count": null,
   "metadata": {},
   "outputs": [],
   "source": [
    "x_train_tfidf = tfidf_vect.transform(x_train)\n",
    "x_test_tfidf = Tfidf_vect.transform(x_test)"
   ]
  },
  {
   "cell_type": "code",
   "execution_count": null,
   "metadata": {},
   "outputs": [],
   "source": [
    "features = tfidf.fit_transform(ddf['text']).toarray()"
   ]
  },
  {
   "cell_type": "code",
   "execution_count": null,
   "metadata": {},
   "outputs": [],
   "source": [
    "features.shape"
   ]
  },
  {
   "cell_type": "code",
   "execution_count": null,
   "metadata": {},
   "outputs": [],
   "source": [
    "# N = 10\n",
    "# for cat, cat_id in sorted(category_to_id.items()):\n",
    "#   features_chi2 = chi2(features, ddf['category_id'] == cat_id)\n",
    "#   indices = np.argsort(features_chi2[0])\n",
    "#   feature_names = np.array(tfidf.get_feature_names())[indices]\n",
    "#   unigrams = [v for v in feature_names if len(v.split(' ')) == 1]\n",
    "#   bigrams = [v for v in feature_names if len(v.split(' ')) == 2]\n",
    "#   print(\"# '{}':\".format(cat))\n",
    "#   print(\"  . Most correlated unigrams:\\n. {}\".format('\\n. '.join(unigrams[-N:])))\n",
    "#   print(\"  . Most correlated bigrams:\\n. {}\".format('\\n. '.join(bigrams[-N:])))"
   ]
  },
  {
   "cell_type": "code",
   "execution_count": null,
   "metadata": {},
   "outputs": [],
   "source": [
    "from sklearn.svm import LinearSVC"
   ]
  },
  {
   "cell_type": "code",
   "execution_count": null,
   "metadata": {},
   "outputs": [],
   "source": [
    "model = LinearSVC()"
   ]
  },
  {
   "cell_type": "code",
   "execution_count": null,
   "metadata": {},
   "outputs": [],
   "source": [
    "x_train"
   ]
  },
  {
   "cell_type": "code",
   "execution_count": null,
   "metadata": {},
   "outputs": [],
   "source": [
    "x_train_tfidf = tfidf_transformer.fit_transform(x_train_counts)"
   ]
  },
  {
   "cell_type": "code",
   "execution_count": null,
   "metadata": {},
   "outputs": [],
   "source": [
    "print(vectorizer.vocabulary_)"
   ]
  },
  {
   "cell_type": "code",
   "execution_count": null,
   "metadata": {},
   "outputs": [],
   "source": [
    "transform_tokens = vectorizer.transform(tokens)"
   ]
  },
  {
   "cell_type": "code",
   "execution_count": null,
   "metadata": {},
   "outputs": [],
   "source": [
    "plt.figure()\n",
    "norm = ImageNormalize(transform_tokens.toarray(), stretch=LinearStretch(), interval=ZScaleInterval())\n",
    "plt.imshow(transform_tokens.toarray(), cmap='gray', interpolation='nearest', origin='lower')"
   ]
  }
 ],
 "metadata": {
  "kernelspec": {
   "display_name": "Python 3",
   "language": "python",
   "name": "python3"
  },
  "language_info": {
   "codemirror_mode": {
    "name": "ipython",
    "version": 3
   },
   "file_extension": ".py",
   "mimetype": "text/x-python",
   "name": "python",
   "nbconvert_exporter": "python",
   "pygments_lexer": "ipython3",
   "version": "3.7.4"
  }
 },
 "nbformat": 4,
 "nbformat_minor": 4
}
