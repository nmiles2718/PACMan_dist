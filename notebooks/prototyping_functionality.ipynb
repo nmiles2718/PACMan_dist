{
 "cells": [
  {
   "cell_type": "code",
   "execution_count": 2,
   "metadata": {},
   "outputs": [],
   "source": [
    "%matplotlib widget\n",
    "from collections import defaultdict\n",
    "import glob\n",
    "import sys\n",
    "sys.path.append('/Users/nmiles/PACMan_dist/')\n",
    "\n",
    "\n",
    "from joblib import dump, load\n",
    "import matplotlib.pyplot as plt\n",
    "plt.style.use('ggplot')\n",
    "import numpy as np\n",
    "import pandas as pd\n",
    "import pacman2020\n",
    "from utils import tokenizer\n",
    "\n",
    "from sklearn.feature_selection import chi2\n",
    "from sklearn.feature_extraction.text import TfidfVectorizer, CountVectorizer\n",
    "from sklearn.model_selection import train_test_split, KFold, StratifiedKFold\n",
    "from sklearn.metrics import classification_report\n",
    "from sklearn.naive_bayes import MultinomialNB, ComplementNB\n",
    "from sklearn.preprocessing import LabelEncoder\n",
    "from sklearn.pipeline import Pipeline\n",
    "from sklearn.pipeline import Pipeline\n",
    "from sklearn.metrics import accuracy_score\n",
    "from sklearn.metrics import confusion_matrix\n",
    "from sklearn.utils.multiclass import unique_labels"
   ]
  },
  {
   "cell_type": "code",
   "execution_count": 3,
   "metadata": {},
   "outputs": [],
   "source": [
    "pman = pacman2020.PACManTrain(cycles_to_analyze=[24, 25])"
   ]
  },
  {
   "cell_type": "code",
   "execution_count": 4,
   "metadata": {},
   "outputs": [
    {
     "name": "stderr",
     "output_type": "stream",
     "text": [
      "INFO [pacman2020.read_training_data:200] Reading in 1093 proposals...\n",
      "Data Directory: /Users/nmiles/PACMan_dist/training_data/training_corpus_cy24\n",
      "100%|██████████| 1093/1093 [07:29<00:00,  2.43it/s]\n",
      "INFO [pacman2020.preprocess:134] Total time for preprocessing: 7.500\n",
      "INFO [pacman2020.read_training_data:200] Reading in 1208 proposals...\n",
      "Data Directory: /Users/nmiles/PACMan_dist/training_data/training_corpus_cy25\n",
      "100%|██████████| 1208/1208 [08:07<00:00,  2.48it/s]\n",
      "INFO [pacman2020.preprocess:134] Total time for preprocessing: 8.133\n"
     ]
    }
   ],
   "source": [
    "pman.read_training_data(parallel=False)"
   ]
  },
  {
   "cell_type": "code",
   "execution_count": 7,
   "metadata": {},
   "outputs": [
    {
     "data": {
      "text/html": [
       "<div>\n",
       "<style scoped>\n",
       "    .dataframe tbody tr th:only-of-type {\n",
       "        vertical-align: middle;\n",
       "    }\n",
       "\n",
       "    .dataframe tbody tr th {\n",
       "        vertical-align: top;\n",
       "    }\n",
       "\n",
       "    .dataframe thead th {\n",
       "        text-align: right;\n",
       "    }\n",
       "</style>\n",
       "<table border=\"1\" class=\"dataframe\">\n",
       "  <thead>\n",
       "    <tr style=\"text-align: right;\">\n",
       "      <th></th>\n",
       "      <th>text</th>\n",
       "      <th>cleaned_text</th>\n",
       "      <th>fname</th>\n",
       "      <th>proposal_num</th>\n",
       "      <th>hand_classification</th>\n",
       "      <th>encoded_hand_classification</th>\n",
       "    </tr>\n",
       "  </thead>\n",
       "  <tbody>\n",
       "    <tr>\n",
       "      <th>0</th>\n",
       "      <td>We propose to obtain far-ultraviolet COS spect...</td>\n",
       "      <td>propose obtain far ultraviolet cos spectra glo...</td>\n",
       "      <td>/Users/nmiles/PACMan_dist/training_data/traini...</td>\n",
       "      <td>954</td>\n",
       "      <td>stellar populations and the ism</td>\n",
       "      <td>5</td>\n",
       "    </tr>\n",
       "    <tr>\n",
       "      <th>1</th>\n",
       "      <td>Our team is using Spitzer in a long-term searc...</td>\n",
       "      <td>team spitzer long term search extragalactic mi...</td>\n",
       "      <td>/Users/nmiles/PACMan_dist/training_data/traini...</td>\n",
       "      <td>901</td>\n",
       "      <td>stellar physics</td>\n",
       "      <td>4</td>\n",
       "    </tr>\n",
       "    <tr>\n",
       "      <th>2</th>\n",
       "      <td>The evolution of stars with masses above 20-25...</td>\n",
       "      <td>evolution star mass msun -- end life black hol...</td>\n",
       "      <td>/Users/nmiles/PACMan_dist/training_data/traini...</td>\n",
       "      <td>284</td>\n",
       "      <td>stellar physics</td>\n",
       "      <td>4</td>\n",
       "    </tr>\n",
       "    <tr>\n",
       "      <th>3</th>\n",
       "      <td>We propose a IR spectroscopic survey of galaxi...</td>\n",
       "      <td>propose ir spectroscopic survey galaxy z=1 sta...</td>\n",
       "      <td>/Users/nmiles/PACMan_dist/training_data/traini...</td>\n",
       "      <td>359</td>\n",
       "      <td>galaxies and the igm</td>\n",
       "      <td>0</td>\n",
       "    </tr>\n",
       "    <tr>\n",
       "      <th>4</th>\n",
       "      <td>We propose Hubble imaging of a newly-discovere...</td>\n",
       "      <td>propose hubble imaging newly discover sample i...</td>\n",
       "      <td>/Users/nmiles/PACMan_dist/training_data/traini...</td>\n",
       "      <td>428</td>\n",
       "      <td>galaxies and the igm</td>\n",
       "      <td>0</td>\n",
       "    </tr>\n",
       "  </tbody>\n",
       "</table>\n",
       "</div>"
      ],
      "text/plain": [
       "                                                text  \\\n",
       "0  We propose to obtain far-ultraviolet COS spect...   \n",
       "1  Our team is using Spitzer in a long-term searc...   \n",
       "2  The evolution of stars with masses above 20-25...   \n",
       "3  We propose a IR spectroscopic survey of galaxi...   \n",
       "4  We propose Hubble imaging of a newly-discovere...   \n",
       "\n",
       "                                        cleaned_text  \\\n",
       "0  propose obtain far ultraviolet cos spectra glo...   \n",
       "1  team spitzer long term search extragalactic mi...   \n",
       "2  evolution star mass msun -- end life black hol...   \n",
       "3  propose ir spectroscopic survey galaxy z=1 sta...   \n",
       "4  propose hubble imaging newly discover sample i...   \n",
       "\n",
       "                                               fname  proposal_num  \\\n",
       "0  /Users/nmiles/PACMan_dist/training_data/traini...           954   \n",
       "1  /Users/nmiles/PACMan_dist/training_data/traini...           901   \n",
       "2  /Users/nmiles/PACMan_dist/training_data/traini...           284   \n",
       "3  /Users/nmiles/PACMan_dist/training_data/traini...           359   \n",
       "4  /Users/nmiles/PACMan_dist/training_data/traini...           428   \n",
       "\n",
       "               hand_classification  encoded_hand_classification  \n",
       "0  stellar populations and the ism                            5  \n",
       "1                  stellar physics                            4  \n",
       "2                  stellar physics                            4  \n",
       "3             galaxies and the igm                            0  \n",
       "4             galaxies and the igm                            0  "
      ]
     },
     "execution_count": 7,
     "metadata": {},
     "output_type": "execute_result"
    }
   ],
   "source": [
    "pman.proposal_data['cycle_25'].head()"
   ]
  },
  {
   "cell_type": "code",
   "execution_count": 8,
   "metadata": {},
   "outputs": [
    {
     "data": {
      "text/html": [
       "<div>\n",
       "<style scoped>\n",
       "    .dataframe tbody tr th:only-of-type {\n",
       "        vertical-align: middle;\n",
       "    }\n",
       "\n",
       "    .dataframe tbody tr th {\n",
       "        vertical-align: top;\n",
       "    }\n",
       "\n",
       "    .dataframe thead th {\n",
       "        text-align: right;\n",
       "    }\n",
       "</style>\n",
       "<table border=\"1\" class=\"dataframe\">\n",
       "  <thead>\n",
       "    <tr style=\"text-align: right;\">\n",
       "      <th></th>\n",
       "      <th>text</th>\n",
       "      <th>cleaned_text</th>\n",
       "      <th>fname</th>\n",
       "      <th>proposal_num</th>\n",
       "      <th>hand_classification</th>\n",
       "      <th>encoded_hand_classification</th>\n",
       "    </tr>\n",
       "  </thead>\n",
       "  <tbody>\n",
       "    <tr>\n",
       "      <th>0</th>\n",
       "      <td>This proposal seeks to use STIS with one orbit...</td>\n",
       "      <td>proposal seek stis orbit map disk titan wavele...</td>\n",
       "      <td>/Users/nmiles/PACMan_dist/training_data/traini...</td>\n",
       "      <td>954</td>\n",
       "      <td>solar system</td>\n",
       "      <td>3</td>\n",
       "    </tr>\n",
       "    <tr>\n",
       "      <th>1</th>\n",
       "      <td>Stellar mass loss rates are only known for 10 ...</td>\n",
       "      <td>stellar mass loss rate know sun like star meas...</td>\n",
       "      <td>/Users/nmiles/PACMan_dist/training_data/traini...</td>\n",
       "      <td>901</td>\n",
       "      <td>stellar physics</td>\n",
       "      <td>4</td>\n",
       "    </tr>\n",
       "    <tr>\n",
       "      <th>2</th>\n",
       "      <td>Local AGN were the first extragalactic objects...</td>\n",
       "      <td>local agn extragalactic object observe vacuum ...</td>\n",
       "      <td>/Users/nmiles/PACMan_dist/training_data/traini...</td>\n",
       "      <td>284</td>\n",
       "      <td>supermassive black holes and active galaxies</td>\n",
       "      <td>6</td>\n",
       "    </tr>\n",
       "    <tr>\n",
       "      <th>3</th>\n",
       "      <td>This is project is designed to explore the AGB...</td>\n",
       "      <td>project design explore agb rgb population lsb ...</td>\n",
       "      <td>/Users/nmiles/PACMan_dist/training_data/traini...</td>\n",
       "      <td>359</td>\n",
       "      <td>stellar populations and the ism</td>\n",
       "      <td>5</td>\n",
       "    </tr>\n",
       "    <tr>\n",
       "      <th>4</th>\n",
       "      <td>We have discovered a short period (18 minutes)...</td>\n",
       "      <td>discover short period minute far ultraviolet v...</td>\n",
       "      <td>/Users/nmiles/PACMan_dist/training_data/traini...</td>\n",
       "      <td>428</td>\n",
       "      <td>stellar physics</td>\n",
       "      <td>4</td>\n",
       "    </tr>\n",
       "  </tbody>\n",
       "</table>\n",
       "</div>"
      ],
      "text/plain": [
       "                                                text  \\\n",
       "0  This proposal seeks to use STIS with one orbit...   \n",
       "1  Stellar mass loss rates are only known for 10 ...   \n",
       "2  Local AGN were the first extragalactic objects...   \n",
       "3  This is project is designed to explore the AGB...   \n",
       "4  We have discovered a short period (18 minutes)...   \n",
       "\n",
       "                                        cleaned_text  \\\n",
       "0  proposal seek stis orbit map disk titan wavele...   \n",
       "1  stellar mass loss rate know sun like star meas...   \n",
       "2  local agn extragalactic object observe vacuum ...   \n",
       "3  project design explore agb rgb population lsb ...   \n",
       "4  discover short period minute far ultraviolet v...   \n",
       "\n",
       "                                               fname  proposal_num  \\\n",
       "0  /Users/nmiles/PACMan_dist/training_data/traini...           954   \n",
       "1  /Users/nmiles/PACMan_dist/training_data/traini...           901   \n",
       "2  /Users/nmiles/PACMan_dist/training_data/traini...           284   \n",
       "3  /Users/nmiles/PACMan_dist/training_data/traini...           359   \n",
       "4  /Users/nmiles/PACMan_dist/training_data/traini...           428   \n",
       "\n",
       "                            hand_classification  encoded_hand_classification  \n",
       "0                                  solar system                            3  \n",
       "1                               stellar physics                            4  \n",
       "2  supermassive black holes and active galaxies                            6  \n",
       "3               stellar populations and the ism                            5  \n",
       "4                               stellar physics                            4  "
      ]
     },
     "execution_count": 8,
     "metadata": {},
     "output_type": "execute_result"
    }
   ],
   "source": [
    "pman.proposal_data['cycle_24'].head()"
   ]
  },
  {
   "cell_type": "code",
   "execution_count": 9,
   "metadata": {},
   "outputs": [],
   "source": [
    "pman.fit_model(pman.proposal_data['cycle_25'])"
   ]
  },
  {
   "cell_type": "code",
   "execution_count": 11,
   "metadata": {},
   "outputs": [],
   "source": [
    "pred = pman.model.predict(pman.proposal_data['cycle_24']['cleaned_text'])"
   ]
  },
  {
   "cell_type": "code",
   "execution_count": 12,
   "metadata": {},
   "outputs": [],
   "source": [
    "pred_prob = pman.model.predict_proba(pman.proposal_data['cycle_24']['cleaned_text'])"
   ]
  },
  {
   "cell_type": "code",
   "execution_count": 13,
   "metadata": {},
   "outputs": [],
   "source": [
    "pman.proposal_data['cycle_24']['encoded_pred_classification'] = pred"
   ]
  },
  {
   "cell_type": "code",
   "execution_count": 14,
   "metadata": {},
   "outputs": [],
   "source": [
    "pman.proposal_data['cycle_24']['pred_classification'] = pman.encoder.inverse_transform(pred)"
   ]
  },
  {
   "cell_type": "code",
   "execution_count": 15,
   "metadata": {},
   "outputs": [
    {
     "name": "stdout",
     "output_type": "stream",
     "text": [
      "              precision    recall  f1-score   support\n",
      "\n",
      "           0       0.84      0.81      0.83       335\n",
      "           1       0.50      0.57      0.53        60\n",
      "           2       0.86      0.96      0.91       130\n",
      "           3       0.98      0.80      0.88        60\n",
      "           4       0.91      0.89      0.90       261\n",
      "           5       0.74      0.77      0.75       116\n",
      "           6       0.89      0.92      0.90       131\n",
      "\n",
      "    accuracy                           0.84      1093\n",
      "   macro avg       0.82      0.82      0.82      1093\n",
      "weighted avg       0.85      0.84      0.84      1093\n",
      "\n"
     ]
    }
   ],
   "source": [
    "print(classification_report(pman.proposal_data['cycle_24']['encoded_hand_classification'], pred))"
   ]
  },
  {
   "cell_type": "code",
   "execution_count": 16,
   "metadata": {},
   "outputs": [],
   "source": [
    "data_out = defaultdict(list)\n",
    "for i, row in pman.proposal_data['cycle_24'].iterrows():\n",
    "    data_out['fname'].append(row['fname'])\n",
    "    data_out['encoded_pred_classification'].append(row['encoded_pred_classification'])\n",
    "    data_out['pred_classification'].append(row['pred_classification'])\n",
    "    data_out['hand_classification'].append(row['hand_classification'])\n",
    "    data_out['encoded_hand_classification'].append(row['encoded_hand_classification'])\n",
    "    for j, class_prob in enumerate(pred_prob[i]):\n",
    "        data_out[f\"{pman.encoder.classes_[j].replace(' ','_')}_prob\"].append(class_prob)"
   ]
  },
  {
   "cell_type": "code",
   "execution_count": 17,
   "metadata": {},
   "outputs": [],
   "source": [
    "df = pd.DataFrame(data_out)"
   ]
  },
  {
   "cell_type": "code",
   "execution_count": 18,
   "metadata": {},
   "outputs": [],
   "source": [
    "top_pred = 0\n",
    "top_two_pred = 0\n",
    "custom_accuracy_dict = {}\n",
    "for c in pman.encoder.classes_:\n",
    "    custom_accuracy_dict[c] = {}\n",
    "for key in custom_accuracy_dict.keys():\n",
    "    custom_accuracy_dict[key]['top'] = []\n",
    "    custom_accuracy_dict[key]['top_two'] = []\n",
    "    custom_accuracy_dict[key]['misclassified'] = []\n",
    "for num, row in df.iterrows():\n",
    "    hand_classification = row['hand_classification']\n",
    "    top_two = row[row.index.str.contains('prob')].sort_values(ascending=False)[:2]\n",
    "    categories = list(top_two.index)\n",
    "    categories = [val.replace('_prob','').replace('_',' ') for val in categories]\n",
    "    if hand_classification == categories[0]:\n",
    "        custom_accuracy_dict[hand_classification]['top'].append(1)\n",
    "        top_pred +=1\n",
    "        top_two_pred +=1\n",
    "    elif hand_classification in categories:\n",
    "        custom_accuracy_dict[hand_classification]['top_two'].append(1)\n",
    "        top_two_pred += 1\n",
    "    else:\n",
    "        custom_accuracy_dict[hand_classification]['misclassified'].append(1)"
   ]
  },
  {
   "cell_type": "code",
   "execution_count": 19,
   "metadata": {},
   "outputs": [
    {
     "data": {
      "text/plain": [
       "0.8417200365965233"
      ]
     },
     "execution_count": 19,
     "metadata": {},
     "output_type": "execute_result"
    }
   ],
   "source": [
    "top_pred/len(df)"
   ]
  },
  {
   "cell_type": "code",
   "execution_count": 20,
   "metadata": {},
   "outputs": [
    {
     "data": {
      "text/plain": [
       "0.9551692589204026"
      ]
     },
     "execution_count": 20,
     "metadata": {},
     "output_type": "execute_result"
    }
   ],
   "source": [
    "top_two_pred/len(df)"
   ]
  },
  {
   "cell_type": "code",
   "execution_count": 21,
   "metadata": {},
   "outputs": [],
   "source": [
    "pman.save_model('pacman_production_model.joblib')"
   ]
  },
  {
   "cell_type": "code",
   "execution_count": 38,
   "metadata": {},
   "outputs": [],
   "source": [
    "from sklearn.model_selection import cross_val_score, train_test_split"
   ]
  },
  {
   "cell_type": "code",
   "execution_count": 26,
   "metadata": {},
   "outputs": [
    {
     "name": "stderr",
     "output_type": "stream",
     "text": [
      "/Users/nmiles/miniconda3/envs/astroconda3/lib/python3.7/site-packages/sklearn/metrics/classification.py:1437: UndefinedMetricWarning: F-score is ill-defined and being set to 0.0 in labels with no predicted samples.\n",
      "  'precision', 'predicted', average, warn_for)\n"
     ]
    },
    {
     "data": {
      "text/plain": [
       "array([0.78046805, 0.71681478, 0.8112345 , 0.80433255, 0.80876795,\n",
       "       0.79130448, 0.78713807, 0.75917137, 0.8356312 , 0.74882884])"
      ]
     },
     "execution_count": 26,
     "metadata": {},
     "output_type": "execute_result"
    }
   ],
   "source": [
    "scores = cross_val_score(\n",
    "    pman.model, pman.proposal_data['cycle_24']['cleaned_text'], pman.proposal_data['cycle_24']['encoded_hand_classification'], cv=10, scoring='f1_macro')\n",
    "scores   "
   ]
  },
  {
   "cell_type": "code",
   "execution_count": 34,
   "metadata": {},
   "outputs": [],
   "source": [
    "def combine_proposals(pman):\n",
    "    df1 = pman.proposal_data['cycle_24']\n",
    "    df2 = pman.proposal_data['cycle_25']\n",
    "    df = df1.append(df2)\n",
    "    return df"
   ]
  },
  {
   "cell_type": "code",
   "execution_count": 31,
   "metadata": {},
   "outputs": [
    {
     "data": {
      "text/plain": [
       "array([0.82676654, 0.83300332, 0.78268655, 0.79351331, 0.74748481,\n",
       "       0.82480188, 0.78736088, 0.77505003, 0.80831729, 0.69287953])"
      ]
     },
     "execution_count": 31,
     "metadata": {},
     "output_type": "execute_result"
    }
   ],
   "source": [
    "scores25 = cross_val_score(\n",
    "    pman.model, pman.proposal_data['cycle_25']['cleaned_text'], pman.proposal_data['cycle_25']['encoded_hand_classification'], cv=10, scoring='f1_macro')\n",
    "scores25  "
   ]
  },
  {
   "cell_type": "code",
   "execution_count": 35,
   "metadata": {},
   "outputs": [],
   "source": [
    "total_dataset = combine_proposals(pman)"
   ]
  },
  {
   "cell_type": "code",
   "execution_count": 37,
   "metadata": {},
   "outputs": [
    {
     "name": "stdout",
     "output_type": "stream",
     "text": [
      "<class 'pandas.core.frame.DataFrame'>\n",
      "Int64Index: 2301 entries, 0 to 1207\n",
      "Data columns (total 8 columns):\n",
      "cleaned_text                   2301 non-null object\n",
      "encoded_hand_classification    2301 non-null int64\n",
      "encoded_pred_classification    1093 non-null float64\n",
      "fname                          2301 non-null object\n",
      "hand_classification            2301 non-null object\n",
      "pred_classification            1093 non-null object\n",
      "proposal_num                   2301 non-null int64\n",
      "text                           2301 non-null object\n",
      "dtypes: float64(1), int64(2), object(5)\n",
      "memory usage: 161.8+ KB\n"
     ]
    }
   ],
   "source": [
    "total_dataset.info()"
   ]
  },
  {
   "cell_type": "code",
   "execution_count": 97,
   "metadata": {},
   "outputs": [],
   "source": [
    "X_train, X_test, y_train, y_test = train_test_split(total_dataset['cleaned_text'], total_dataset['encoded_hand_classification'], test_size=0.3, random_state=42)"
   ]
  },
  {
   "cell_type": "code",
   "execution_count": 98,
   "metadata": {},
   "outputs": [
    {
     "data": {
      "text/plain": [
       "0.6996957844415471"
      ]
     },
     "execution_count": 98,
     "metadata": {},
     "output_type": "execute_result"
    }
   ],
   "source": [
    "len(y_train)/ len(total_dataset['cleaned_text'])"
   ]
  },
  {
   "cell_type": "code",
   "execution_count": 99,
   "metadata": {},
   "outputs": [],
   "source": [
    "train_df = pd.DataFrame()\n",
    "train_df['cleaned_text'] = X_train\n",
    "train_df['encoded_hand_classification'] = y_train"
   ]
  },
  {
   "cell_type": "code",
   "execution_count": 100,
   "metadata": {},
   "outputs": [],
   "source": [
    "test_df = pd.DataFrame()\n",
    "test_df['cleaned_text'] = X_test\n",
    "test_df['encoded_hand_classification'] = y_test"
   ]
  },
  {
   "cell_type": "code",
   "execution_count": 101,
   "metadata": {},
   "outputs": [],
   "source": [
    "pman.fit_model(train_df)"
   ]
  },
  {
   "cell_type": "code",
   "execution_count": 102,
   "metadata": {},
   "outputs": [
    {
     "data": {
      "text/html": [
       "<div>\n",
       "<style scoped>\n",
       "    .dataframe tbody tr th:only-of-type {\n",
       "        vertical-align: middle;\n",
       "    }\n",
       "\n",
       "    .dataframe tbody tr th {\n",
       "        vertical-align: top;\n",
       "    }\n",
       "\n",
       "    .dataframe thead th {\n",
       "        text-align: right;\n",
       "    }\n",
       "</style>\n",
       "<table border=\"1\" class=\"dataframe\">\n",
       "  <thead>\n",
       "    <tr style=\"text-align: right;\">\n",
       "      <th></th>\n",
       "      <th>cleaned_text</th>\n",
       "      <th>encoded_hand_classification</th>\n",
       "    </tr>\n",
       "  </thead>\n",
       "  <tbody>\n",
       "    <tr>\n",
       "      <th>941</th>\n",
       "      <td>far ultraviolet fuv emission old stellar puzzl...</td>\n",
       "      <td>5</td>\n",
       "    </tr>\n",
       "    <tr>\n",
       "      <th>286</th>\n",
       "      <td>propose new deep polarization imaging m87 jet ...</td>\n",
       "      <td>6</td>\n",
       "    </tr>\n",
       "    <tr>\n",
       "      <th>929</th>\n",
       "      <td>striking difference nearby high z star formati...</td>\n",
       "      <td>0</td>\n",
       "    </tr>\n",
       "    <tr>\n",
       "      <th>176</th>\n",
       "      <td>propose analyze ksec time tag observation pre ...</td>\n",
       "      <td>5</td>\n",
       "    </tr>\n",
       "    <tr>\n",
       "      <th>464</th>\n",
       "      <td>supernovae sne powerful event universe profoun...</td>\n",
       "      <td>4</td>\n",
       "    </tr>\n",
       "    <tr>\n",
       "      <th>...</th>\n",
       "      <td>...</td>\n",
       "      <td>...</td>\n",
       "    </tr>\n",
       "    <tr>\n",
       "      <th>944</th>\n",
       "      <td>star cluster play central role understand star...</td>\n",
       "      <td>0</td>\n",
       "    </tr>\n",
       "    <tr>\n",
       "      <th>939</th>\n",
       "      <td>accretion process young low mass star classica...</td>\n",
       "      <td>4</td>\n",
       "    </tr>\n",
       "    <tr>\n",
       "      <th>733</th>\n",
       "      <td>discovery relation supermassive black hole bh ...</td>\n",
       "      <td>6</td>\n",
       "    </tr>\n",
       "    <tr>\n",
       "      <th>344</th>\n",
       "      <td>galactic stellar population interstellar mediu...</td>\n",
       "      <td>4</td>\n",
       "    </tr>\n",
       "    <tr>\n",
       "      <th>556</th>\n",
       "      <td>sub damp lyman alpha qso absorber lya damp win...</td>\n",
       "      <td>0</td>\n",
       "    </tr>\n",
       "  </tbody>\n",
       "</table>\n",
       "<p>691 rows × 2 columns</p>\n",
       "</div>"
      ],
      "text/plain": [
       "                                          cleaned_text  \\\n",
       "941  far ultraviolet fuv emission old stellar puzzl...   \n",
       "286  propose new deep polarization imaging m87 jet ...   \n",
       "929  striking difference nearby high z star formati...   \n",
       "176  propose analyze ksec time tag observation pre ...   \n",
       "464  supernovae sne powerful event universe profoun...   \n",
       "..                                                 ...   \n",
       "944  star cluster play central role understand star...   \n",
       "939  accretion process young low mass star classica...   \n",
       "733  discovery relation supermassive black hole bh ...   \n",
       "344  galactic stellar population interstellar mediu...   \n",
       "556  sub damp lyman alpha qso absorber lya damp win...   \n",
       "\n",
       "     encoded_hand_classification  \n",
       "941                            5  \n",
       "286                            6  \n",
       "929                            0  \n",
       "176                            5  \n",
       "464                            4  \n",
       "..                           ...  \n",
       "944                            0  \n",
       "939                            4  \n",
       "733                            6  \n",
       "344                            4  \n",
       "556                            0  \n",
       "\n",
       "[691 rows x 2 columns]"
      ]
     },
     "execution_count": 102,
     "metadata": {},
     "output_type": "execute_result"
    }
   ],
   "source": [
    "test_df"
   ]
  },
  {
   "cell_type": "code",
   "execution_count": 103,
   "metadata": {},
   "outputs": [],
   "source": [
    "pred = pman.model.predict(test_df['cleaned_text'])"
   ]
  },
  {
   "cell_type": "code",
   "execution_count": 104,
   "metadata": {},
   "outputs": [
    {
     "name": "stdout",
     "output_type": "stream",
     "text": [
      "              precision    recall  f1-score   support\n",
      "\n",
      "           0       0.79      0.86      0.82       208\n",
      "           1       0.69      0.52      0.59        46\n",
      "           2       0.91      0.93      0.92        83\n",
      "           3       0.97      0.97      0.97        31\n",
      "           4       0.85      0.89      0.87       148\n",
      "           5       0.75      0.64      0.69        90\n",
      "           6       0.90      0.88      0.89        85\n",
      "\n",
      "    accuracy                           0.83       691\n",
      "   macro avg       0.84      0.81      0.82       691\n",
      "weighted avg       0.83      0.83      0.83       691\n",
      "\n"
     ]
    }
   ],
   "source": [
    "print(classification_report(test_df['encoded_hand_classification'], pred))"
   ]
  },
  {
   "cell_type": "code",
   "execution_count": 96,
   "metadata": {},
   "outputs": [
    {
     "data": {
      "text/plain": [
       "1151"
      ]
     },
     "execution_count": 96,
     "metadata": {},
     "output_type": "execute_result"
    }
   ],
   "source": [
    "len(pred)"
   ]
  },
  {
   "cell_type": "code",
   "execution_count": 106,
   "metadata": {},
   "outputs": [
    {
     "ename": "AttributeError",
     "evalue": "'Series' object has no attribute 'iterrows'",
     "output_type": "error",
     "traceback": [
      "\u001b[0;31m---------------------------------------------------------------------------\u001b[0m",
      "\u001b[0;31mAttributeError\u001b[0m                            Traceback (most recent call last)",
      "\u001b[0;32m<ipython-input-106-f5750f259ae9>\u001b[0m in \u001b[0;36m<module>\u001b[0;34m\u001b[0m\n\u001b[1;32m      1\u001b[0m \u001b[0mdata_out\u001b[0m \u001b[0;34m=\u001b[0m \u001b[0mdefaultdict\u001b[0m\u001b[0;34m(\u001b[0m\u001b[0mlist\u001b[0m\u001b[0;34m)\u001b[0m\u001b[0;34m\u001b[0m\u001b[0;34m\u001b[0m\u001b[0m\n\u001b[0;32m----> 2\u001b[0;31m \u001b[0;32mfor\u001b[0m \u001b[0mi\u001b[0m\u001b[0;34m,\u001b[0m \u001b[0mrow\u001b[0m \u001b[0;32min\u001b[0m \u001b[0mX_test\u001b[0m\u001b[0;34m.\u001b[0m\u001b[0miterrows\u001b[0m\u001b[0;34m(\u001b[0m\u001b[0;34m)\u001b[0m\u001b[0;34m:\u001b[0m\u001b[0;34m\u001b[0m\u001b[0;34m\u001b[0m\u001b[0m\n\u001b[0m\u001b[1;32m      3\u001b[0m     \u001b[0mdata_out\u001b[0m\u001b[0;34m[\u001b[0m\u001b[0;34m'fname'\u001b[0m\u001b[0;34m]\u001b[0m\u001b[0;34m.\u001b[0m\u001b[0mappend\u001b[0m\u001b[0;34m(\u001b[0m\u001b[0mrow\u001b[0m\u001b[0;34m[\u001b[0m\u001b[0;34m'fname'\u001b[0m\u001b[0;34m]\u001b[0m\u001b[0;34m)\u001b[0m\u001b[0;34m\u001b[0m\u001b[0;34m\u001b[0m\u001b[0m\n\u001b[1;32m      4\u001b[0m     \u001b[0mdata_out\u001b[0m\u001b[0;34m[\u001b[0m\u001b[0;34m'encoded_pred_classification'\u001b[0m\u001b[0;34m]\u001b[0m\u001b[0;34m.\u001b[0m\u001b[0mappend\u001b[0m\u001b[0;34m(\u001b[0m\u001b[0mrow\u001b[0m\u001b[0;34m[\u001b[0m\u001b[0;34m'encoded_pred_classification'\u001b[0m\u001b[0;34m]\u001b[0m\u001b[0;34m)\u001b[0m\u001b[0;34m\u001b[0m\u001b[0;34m\u001b[0m\u001b[0m\n\u001b[1;32m      5\u001b[0m     \u001b[0mdata_out\u001b[0m\u001b[0;34m[\u001b[0m\u001b[0;34m'pred_classification'\u001b[0m\u001b[0;34m]\u001b[0m\u001b[0;34m.\u001b[0m\u001b[0mappend\u001b[0m\u001b[0;34m(\u001b[0m\u001b[0mrow\u001b[0m\u001b[0;34m[\u001b[0m\u001b[0;34m'pred_classification'\u001b[0m\u001b[0;34m]\u001b[0m\u001b[0;34m)\u001b[0m\u001b[0;34m\u001b[0m\u001b[0;34m\u001b[0m\u001b[0m\n",
      "\u001b[0;32m~/miniconda3/envs/astroconda3/lib/python3.7/site-packages/pandas/core/generic.py\u001b[0m in \u001b[0;36m__getattr__\u001b[0;34m(self, name)\u001b[0m\n\u001b[1;32m   5177\u001b[0m             \u001b[0;32mif\u001b[0m \u001b[0mself\u001b[0m\u001b[0;34m.\u001b[0m\u001b[0m_info_axis\u001b[0m\u001b[0;34m.\u001b[0m\u001b[0m_can_hold_identifiers_and_holds_name\u001b[0m\u001b[0;34m(\u001b[0m\u001b[0mname\u001b[0m\u001b[0;34m)\u001b[0m\u001b[0;34m:\u001b[0m\u001b[0;34m\u001b[0m\u001b[0;34m\u001b[0m\u001b[0m\n\u001b[1;32m   5178\u001b[0m                 \u001b[0;32mreturn\u001b[0m \u001b[0mself\u001b[0m\u001b[0;34m[\u001b[0m\u001b[0mname\u001b[0m\u001b[0;34m]\u001b[0m\u001b[0;34m\u001b[0m\u001b[0;34m\u001b[0m\u001b[0m\n\u001b[0;32m-> 5179\u001b[0;31m             \u001b[0;32mreturn\u001b[0m \u001b[0mobject\u001b[0m\u001b[0;34m.\u001b[0m\u001b[0m__getattribute__\u001b[0m\u001b[0;34m(\u001b[0m\u001b[0mself\u001b[0m\u001b[0;34m,\u001b[0m \u001b[0mname\u001b[0m\u001b[0;34m)\u001b[0m\u001b[0;34m\u001b[0m\u001b[0;34m\u001b[0m\u001b[0m\n\u001b[0m\u001b[1;32m   5180\u001b[0m \u001b[0;34m\u001b[0m\u001b[0m\n\u001b[1;32m   5181\u001b[0m     \u001b[0;32mdef\u001b[0m \u001b[0m__setattr__\u001b[0m\u001b[0;34m(\u001b[0m\u001b[0mself\u001b[0m\u001b[0;34m,\u001b[0m \u001b[0mname\u001b[0m\u001b[0;34m,\u001b[0m \u001b[0mvalue\u001b[0m\u001b[0;34m)\u001b[0m\u001b[0;34m:\u001b[0m\u001b[0;34m\u001b[0m\u001b[0;34m\u001b[0m\u001b[0m\n",
      "\u001b[0;31mAttributeError\u001b[0m: 'Series' object has no attribute 'iterrows'"
     ]
    }
   ],
   "source": [
    "data_out = defaultdict(list)\n",
    "for i, row in pman.proposal_data['cycle_24'].iterrows():\n",
    "    data_out['fname'].append(row['fname'])\n",
    "    data_out['encoded_pred_classification'].append(row['encoded_pred_classification'])\n",
    "    data_out['pred_classification'].append(row['pred_classification'])\n",
    "    data_out['hand_classification'].append(row['hand_classification'])\n",
    "    data_out['encoded_hand_classification'].append(row['encoded_hand_classification'])\n",
    "    for j, class_prob in enumerate(pred_prob[i]):\n",
    "        data_out[f\"{pman.encoder.classes_[j].replace(' ','_')}_prob\"].append(class_prob)"
   ]
  },
  {
   "cell_type": "code",
   "execution_count": null,
   "metadata": {},
   "outputs": [],
   "source": []
  }
 ],
 "metadata": {
  "kernelspec": {
   "display_name": "Python 3",
   "language": "python",
   "name": "python3"
  },
  "language_info": {
   "codemirror_mode": {
    "name": "ipython",
    "version": 3
   },
   "file_extension": ".py",
   "mimetype": "text/x-python",
   "name": "python",
   "nbconvert_exporter": "python",
   "pygments_lexer": "ipython3",
   "version": "3.7.5"
  }
 },
 "nbformat": 4,
 "nbformat_minor": 4
}
